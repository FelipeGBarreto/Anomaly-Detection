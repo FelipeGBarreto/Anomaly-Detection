{
 "cells": [
  {
   "cell_type": "markdown",
   "metadata": {
    "id": "cbPfH7Z0H4fo"
   },
   "source": [
    "<h1 style=\"background-color:black;font-family:newtimeroman;text-align:center;border-radius: 0px 100px\"><font color=white size=7>Anomaly Detection</h1>\n",
    "\n",
    "\n",
    "[Link dos dados no kaggle](https://www.kaggle.com/datasets/lsind18/euro-exchange-daily-rates-19992020?select=euro-daily-hist_1999_2022.csv)\n",
    "    \n",
    "   > This anomaly detection considers the IQR Indice"
   ]
  },
  {
   "cell_type": "markdown",
   "metadata": {},
   "source": [
    "# 00. Libreries\n",
    "---"
   ]
  },
  {
   "cell_type": "code",
   "execution_count": 31,
   "metadata": {},
   "outputs": [],
   "source": [
    "import opendatasets as od\n",
    "import pandas as pd\n",
    "import seaborn as sns\n",
    "import matplotlib.pyplot as plt\n",
    "\n",
    "import plotly.express as px\n",
    "import plotly.graph_objects as go\n",
    "\n",
    "import warnings\n",
    "warnings.filterwarnings('ignore')"
   ]
  },
  {
   "cell_type": "code",
   "execution_count": 32,
   "metadata": {},
   "outputs": [
    {
     "name": "stdout",
     "output_type": "stream",
     "text": [
      "Skipping, found downloaded files in \"./euro-exchange-daily-rates-19992020\" (use force=True to force download)\n"
     ]
    }
   ],
   "source": [
    "od.download(\"https://www.kaggle.com/datasets/lsind18/euro-exchange-daily-rates-19992020\")\n",
    "\n",
    "path = '/Users/felipebarreto/Documents/Anomaly-Detection/'\n",
    "df = pd.read_csv(path + 'euro-exchange-daily-rates-19992020/euro-daily-hist_1999_2022.csv', sep=\",\")\n",
    "\n",
    "pd.set_option('display.max_columns', None) # show all columns"
   ]
  },
  {
   "cell_type": "code",
   "execution_count": 33,
   "metadata": {
    "colab": {
     "base_uri": "https://localhost:8080/",
     "height": 308
    },
    "executionInfo": {
     "elapsed": 5,
     "status": "ok",
     "timestamp": 1701980963112,
     "user": {
      "displayName": "Felipe Barreto",
      "userId": "12704356492697410725"
     },
     "user_tz": 180
    },
    "id": "dov5dIqxH-eT",
    "outputId": "9fb4a5ac-8776-48c5-b31e-867a64b4072d"
   },
   "outputs": [
    {
     "data": {
      "text/html": [
       "<div>\n",
       "<style scoped>\n",
       "    .dataframe tbody tr th:only-of-type {\n",
       "        vertical-align: middle;\n",
       "    }\n",
       "\n",
       "    .dataframe tbody tr th {\n",
       "        vertical-align: top;\n",
       "    }\n",
       "\n",
       "    .dataframe thead th {\n",
       "        text-align: right;\n",
       "    }\n",
       "</style>\n",
       "<table border=\"1\" class=\"dataframe\">\n",
       "  <thead>\n",
       "    <tr style=\"text-align: right;\">\n",
       "      <th></th>\n",
       "      <th>Period\\Unit:</th>\n",
       "      <th>[Australian dollar ]</th>\n",
       "      <th>[Bulgarian lev ]</th>\n",
       "      <th>[Brazilian real ]</th>\n",
       "      <th>[Canadian dollar ]</th>\n",
       "      <th>[Swiss franc ]</th>\n",
       "      <th>[Chinese yuan renminbi ]</th>\n",
       "      <th>[Cypriot pound ]</th>\n",
       "      <th>[Czech koruna ]</th>\n",
       "      <th>[Danish krone ]</th>\n",
       "      <th>[Estonian kroon ]</th>\n",
       "      <th>[UK pound sterling ]</th>\n",
       "      <th>[Greek drachma ]</th>\n",
       "      <th>[Hong Kong dollar ]</th>\n",
       "      <th>[Croatian kuna ]</th>\n",
       "      <th>[Hungarian forint ]</th>\n",
       "      <th>[Indonesian rupiah ]</th>\n",
       "      <th>[Israeli shekel ]</th>\n",
       "      <th>[Indian rupee ]</th>\n",
       "      <th>[Iceland krona ]</th>\n",
       "      <th>[Japanese yen ]</th>\n",
       "      <th>[Korean won ]</th>\n",
       "      <th>[Lithuanian litas ]</th>\n",
       "      <th>[Latvian lats ]</th>\n",
       "      <th>[Maltese lira ]</th>\n",
       "      <th>[Mexican peso ]</th>\n",
       "      <th>[Malaysian ringgit ]</th>\n",
       "      <th>[Norwegian krone ]</th>\n",
       "      <th>[New Zealand dollar ]</th>\n",
       "      <th>[Philippine peso ]</th>\n",
       "      <th>[Polish zloty ]</th>\n",
       "      <th>[Romanian leu ]</th>\n",
       "      <th>[Russian rouble ]</th>\n",
       "      <th>[Swedish krona ]</th>\n",
       "      <th>[Singapore dollar ]</th>\n",
       "      <th>[Slovenian tolar ]</th>\n",
       "      <th>[Slovak koruna ]</th>\n",
       "      <th>[Thai baht ]</th>\n",
       "      <th>[Turkish lira ]</th>\n",
       "      <th>[US dollar ]</th>\n",
       "      <th>[South African rand ]</th>\n",
       "    </tr>\n",
       "  </thead>\n",
       "  <tbody>\n",
       "    <tr>\n",
       "      <th>0</th>\n",
       "      <td>2023-05-26</td>\n",
       "      <td>1.6439</td>\n",
       "      <td>1.9558</td>\n",
       "      <td>5.3878</td>\n",
       "      <td>1.4630</td>\n",
       "      <td>0.9707</td>\n",
       "      <td>7.5874</td>\n",
       "      <td>NaN</td>\n",
       "      <td>23.648</td>\n",
       "      <td>7.4489</td>\n",
       "      <td>NaN</td>\n",
       "      <td>0.86813</td>\n",
       "      <td>NaN</td>\n",
       "      <td>8.4230</td>\n",
       "      <td>NaN</td>\n",
       "      <td>371.61</td>\n",
       "      <td>16085.65</td>\n",
       "      <td>4.0180</td>\n",
       "      <td>88.8049</td>\n",
       "      <td>149.5</td>\n",
       "      <td>150.24</td>\n",
       "      <td>1425.46</td>\n",
       "      <td>NaN</td>\n",
       "      <td>NaN</td>\n",
       "      <td>NaN</td>\n",
       "      <td>19.0690</td>\n",
       "      <td>4.9465</td>\n",
       "      <td>11.8218</td>\n",
       "      <td>1.7656</td>\n",
       "      <td>60.011</td>\n",
       "      <td>4.5354</td>\n",
       "      <td>4.9572</td>\n",
       "      <td>NaN</td>\n",
       "      <td>11.5280</td>\n",
       "      <td>1.4520</td>\n",
       "      <td>NaN</td>\n",
       "      <td>NaN</td>\n",
       "      <td>37.2630</td>\n",
       "      <td>21.5340</td>\n",
       "      <td>1.0751</td>\n",
       "      <td>21.0148</td>\n",
       "    </tr>\n",
       "    <tr>\n",
       "      <th>1</th>\n",
       "      <td>2023-05-25</td>\n",
       "      <td>1.6443</td>\n",
       "      <td>1.9558</td>\n",
       "      <td>5.3320</td>\n",
       "      <td>1.4599</td>\n",
       "      <td>0.9708</td>\n",
       "      <td>7.5891</td>\n",
       "      <td>NaN</td>\n",
       "      <td>23.645</td>\n",
       "      <td>7.4502</td>\n",
       "      <td>NaN</td>\n",
       "      <td>0.86793</td>\n",
       "      <td>NaN</td>\n",
       "      <td>8.4092</td>\n",
       "      <td>NaN</td>\n",
       "      <td>372.30</td>\n",
       "      <td>16040.83</td>\n",
       "      <td>3.9894</td>\n",
       "      <td>88.8055</td>\n",
       "      <td>150.7</td>\n",
       "      <td>149.63</td>\n",
       "      <td>1424.30</td>\n",
       "      <td>NaN</td>\n",
       "      <td>NaN</td>\n",
       "      <td>NaN</td>\n",
       "      <td>19.0797</td>\n",
       "      <td>4.9655</td>\n",
       "      <td>11.7695</td>\n",
       "      <td>1.7655</td>\n",
       "      <td>60.132</td>\n",
       "      <td>4.5110</td>\n",
       "      <td>4.9495</td>\n",
       "      <td>NaN</td>\n",
       "      <td>11.5490</td>\n",
       "      <td>1.4515</td>\n",
       "      <td>NaN</td>\n",
       "      <td>NaN</td>\n",
       "      <td>37.1540</td>\n",
       "      <td>21.3944</td>\n",
       "      <td>1.0735</td>\n",
       "      <td>20.7466</td>\n",
       "    </tr>\n",
       "    <tr>\n",
       "      <th>2</th>\n",
       "      <td>2023-05-24</td>\n",
       "      <td>1.6402</td>\n",
       "      <td>1.9558</td>\n",
       "      <td>5.3397</td>\n",
       "      <td>1.4600</td>\n",
       "      <td>0.9732</td>\n",
       "      <td>7.6005</td>\n",
       "      <td>NaN</td>\n",
       "      <td>23.671</td>\n",
       "      <td>7.4477</td>\n",
       "      <td>NaN</td>\n",
       "      <td>0.86993</td>\n",
       "      <td>NaN</td>\n",
       "      <td>8.4462</td>\n",
       "      <td>NaN</td>\n",
       "      <td>372.70</td>\n",
       "      <td>16063.50</td>\n",
       "      <td>4.0095</td>\n",
       "      <td>89.1473</td>\n",
       "      <td>151.3</td>\n",
       "      <td>149.30</td>\n",
       "      <td>1421.92</td>\n",
       "      <td>NaN</td>\n",
       "      <td>NaN</td>\n",
       "      <td>NaN</td>\n",
       "      <td>19.2493</td>\n",
       "      <td>4.9536</td>\n",
       "      <td>11.8175</td>\n",
       "      <td>1.7582</td>\n",
       "      <td>60.068</td>\n",
       "      <td>4.4900</td>\n",
       "      <td>4.9614</td>\n",
       "      <td>NaN</td>\n",
       "      <td>11.5103</td>\n",
       "      <td>1.4526</td>\n",
       "      <td>NaN</td>\n",
       "      <td>NaN</td>\n",
       "      <td>37.1710</td>\n",
       "      <td>21.4487</td>\n",
       "      <td>1.0785</td>\n",
       "      <td>20.7479</td>\n",
       "    </tr>\n",
       "  </tbody>\n",
       "</table>\n",
       "</div>"
      ],
      "text/plain": [
       "  Period\\Unit: [Australian dollar ] [Bulgarian lev ] [Brazilian real ]  \\\n",
       "0   2023-05-26               1.6439           1.9558            5.3878   \n",
       "1   2023-05-25               1.6443           1.9558            5.3320   \n",
       "2   2023-05-24               1.6402           1.9558            5.3397   \n",
       "\n",
       "  [Canadian dollar ] [Swiss franc ] [Chinese yuan renminbi ] [Cypriot pound ]  \\\n",
       "0             1.4630         0.9707                   7.5874              NaN   \n",
       "1             1.4599         0.9708                   7.5891              NaN   \n",
       "2             1.4600         0.9732                   7.6005              NaN   \n",
       "\n",
       "  [Czech koruna ] [Danish krone ] [Estonian kroon ] [UK pound sterling ]  \\\n",
       "0          23.648          7.4489               NaN              0.86813   \n",
       "1          23.645          7.4502               NaN              0.86793   \n",
       "2          23.671          7.4477               NaN              0.86993   \n",
       "\n",
       "  [Greek drachma ] [Hong Kong dollar ] [Croatian kuna ] [Hungarian forint ]  \\\n",
       "0              NaN              8.4230              NaN              371.61   \n",
       "1              NaN              8.4092              NaN              372.30   \n",
       "2              NaN              8.4462              NaN              372.70   \n",
       "\n",
       "  [Indonesian rupiah ] [Israeli shekel ] [Indian rupee ]  [Iceland krona ]  \\\n",
       "0             16085.65            4.0180         88.8049             149.5   \n",
       "1             16040.83            3.9894         88.8055             150.7   \n",
       "2             16063.50            4.0095         89.1473             151.3   \n",
       "\n",
       "  [Japanese yen ] [Korean won ] [Lithuanian litas ] [Latvian lats ]  \\\n",
       "0          150.24       1425.46                 NaN             NaN   \n",
       "1          149.63       1424.30                 NaN             NaN   \n",
       "2          149.30       1421.92                 NaN             NaN   \n",
       "\n",
       "  [Maltese lira ] [Mexican peso ] [Malaysian ringgit ] [Norwegian krone ]  \\\n",
       "0             NaN         19.0690               4.9465            11.8218   \n",
       "1             NaN         19.0797               4.9655            11.7695   \n",
       "2             NaN         19.2493               4.9536            11.8175   \n",
       "\n",
       "  [New Zealand dollar ] [Philippine peso ] [Polish zloty ]  [Romanian leu ]  \\\n",
       "0                1.7656             60.011          4.5354           4.9572   \n",
       "1                1.7655             60.132          4.5110           4.9495   \n",
       "2                1.7582             60.068          4.4900           4.9614   \n",
       "\n",
       "  [Russian rouble ] [Swedish krona ] [Singapore dollar ] [Slovenian tolar ]  \\\n",
       "0               NaN          11.5280              1.4520                NaN   \n",
       "1               NaN          11.5490              1.4515                NaN   \n",
       "2               NaN          11.5103              1.4526                NaN   \n",
       "\n",
       "  [Slovak koruna ] [Thai baht ]  [Turkish lira ] [US dollar ]  \\\n",
       "0              NaN      37.2630          21.5340       1.0751   \n",
       "1              NaN      37.1540          21.3944       1.0735   \n",
       "2              NaN      37.1710          21.4487       1.0785   \n",
       "\n",
       "  [South African rand ]  \n",
       "0               21.0148  \n",
       "1               20.7466  \n",
       "2               20.7479  "
      ]
     },
     "execution_count": 33,
     "metadata": {},
     "output_type": "execute_result"
    }
   ],
   "source": [
    "df.head(3)"
   ]
  },
  {
   "cell_type": "markdown",
   "metadata": {},
   "source": [
    "# 02. Data Adjusting\n",
    "---"
   ]
  },
  {
   "cell_type": "code",
   "execution_count": 20,
   "metadata": {},
   "outputs": [],
   "source": [
    "rename_columns = [\n",
    "    i.translate(str.maketrans({'[': '', ']': ''})).strip()\n",
    "    for i in df.columns\n",
    "]\n",
    "rename_columns[0] = 'date'\n",
    "\n",
    "df.columns = rename_columns"
   ]
  },
  {
   "cell_type": "code",
   "execution_count": 21,
   "metadata": {
    "id": "_rD4Bpaa5FIL"
   },
   "outputs": [],
   "source": [
    "df.date = pd.to_datetime(df.date)"
   ]
  },
  {
   "cell_type": "code",
   "execution_count": 22,
   "metadata": {},
   "outputs": [],
   "source": [
    "# Função para\n",
    "def to_float(currency='Brazilian real'):\n",
    "    df[currency] = df[currency]\\\n",
    "        .replace('-',None)\\\n",
    "        .astype('float')\n",
    "    return df[currency]\n",
    "\n",
    "# Transaformando todas as colunas de currency em float\n",
    "for i in df.columns.drop('date'):\n",
    "    df[i] = to_float(currency=i)"
   ]
  },
  {
   "cell_type": "code",
   "execution_count": 23,
   "metadata": {},
   "outputs": [
    {
     "data": {
      "text/html": [
       "<div>\n",
       "<style scoped>\n",
       "    .dataframe tbody tr th:only-of-type {\n",
       "        vertical-align: middle;\n",
       "    }\n",
       "\n",
       "    .dataframe tbody tr th {\n",
       "        vertical-align: top;\n",
       "    }\n",
       "\n",
       "    .dataframe thead th {\n",
       "        text-align: right;\n",
       "    }\n",
       "</style>\n",
       "<table border=\"1\" class=\"dataframe\">\n",
       "  <thead>\n",
       "    <tr style=\"text-align: right;\">\n",
       "      <th></th>\n",
       "      <th>date</th>\n",
       "      <th>Australian dollar</th>\n",
       "      <th>Bulgarian lev</th>\n",
       "      <th>Brazilian real</th>\n",
       "      <th>Canadian dollar</th>\n",
       "      <th>Swiss franc</th>\n",
       "      <th>Chinese yuan renminbi</th>\n",
       "      <th>Cypriot pound</th>\n",
       "      <th>Czech koruna</th>\n",
       "      <th>Danish krone</th>\n",
       "      <th>Estonian kroon</th>\n",
       "      <th>UK pound sterling</th>\n",
       "      <th>Greek drachma</th>\n",
       "      <th>Hong Kong dollar</th>\n",
       "      <th>Croatian kuna</th>\n",
       "      <th>Hungarian forint</th>\n",
       "      <th>Indonesian rupiah</th>\n",
       "      <th>Israeli shekel</th>\n",
       "      <th>Indian rupee</th>\n",
       "      <th>Iceland krona</th>\n",
       "      <th>Japanese yen</th>\n",
       "      <th>Korean won</th>\n",
       "      <th>Lithuanian litas</th>\n",
       "      <th>Latvian lats</th>\n",
       "      <th>Maltese lira</th>\n",
       "      <th>Mexican peso</th>\n",
       "      <th>Malaysian ringgit</th>\n",
       "      <th>Norwegian krone</th>\n",
       "      <th>New Zealand dollar</th>\n",
       "      <th>Philippine peso</th>\n",
       "      <th>Polish zloty</th>\n",
       "      <th>Romanian leu</th>\n",
       "      <th>Russian rouble</th>\n",
       "      <th>Swedish krona</th>\n",
       "      <th>Singapore dollar</th>\n",
       "      <th>Slovenian tolar</th>\n",
       "      <th>Slovak koruna</th>\n",
       "      <th>Thai baht</th>\n",
       "      <th>Turkish lira</th>\n",
       "      <th>US dollar</th>\n",
       "      <th>South African rand</th>\n",
       "    </tr>\n",
       "  </thead>\n",
       "  <tbody>\n",
       "    <tr>\n",
       "      <th>0</th>\n",
       "      <td>2023-05-26</td>\n",
       "      <td>1.6439</td>\n",
       "      <td>1.9558</td>\n",
       "      <td>5.3878</td>\n",
       "      <td>1.4630</td>\n",
       "      <td>0.9707</td>\n",
       "      <td>7.5874</td>\n",
       "      <td>NaN</td>\n",
       "      <td>23.648</td>\n",
       "      <td>7.4489</td>\n",
       "      <td>NaN</td>\n",
       "      <td>0.86813</td>\n",
       "      <td>NaN</td>\n",
       "      <td>8.4230</td>\n",
       "      <td>NaN</td>\n",
       "      <td>371.61</td>\n",
       "      <td>16085.65</td>\n",
       "      <td>4.0180</td>\n",
       "      <td>88.8049</td>\n",
       "      <td>149.5</td>\n",
       "      <td>150.24</td>\n",
       "      <td>1425.46</td>\n",
       "      <td>NaN</td>\n",
       "      <td>NaN</td>\n",
       "      <td>NaN</td>\n",
       "      <td>19.0690</td>\n",
       "      <td>4.9465</td>\n",
       "      <td>11.8218</td>\n",
       "      <td>1.7656</td>\n",
       "      <td>60.011</td>\n",
       "      <td>4.5354</td>\n",
       "      <td>4.9572</td>\n",
       "      <td>NaN</td>\n",
       "      <td>11.5280</td>\n",
       "      <td>1.4520</td>\n",
       "      <td>NaN</td>\n",
       "      <td>NaN</td>\n",
       "      <td>37.263</td>\n",
       "      <td>21.5340</td>\n",
       "      <td>1.0751</td>\n",
       "      <td>21.0148</td>\n",
       "    </tr>\n",
       "    <tr>\n",
       "      <th>1</th>\n",
       "      <td>2023-05-25</td>\n",
       "      <td>1.6443</td>\n",
       "      <td>1.9558</td>\n",
       "      <td>5.3320</td>\n",
       "      <td>1.4599</td>\n",
       "      <td>0.9708</td>\n",
       "      <td>7.5891</td>\n",
       "      <td>NaN</td>\n",
       "      <td>23.645</td>\n",
       "      <td>7.4502</td>\n",
       "      <td>NaN</td>\n",
       "      <td>0.86793</td>\n",
       "      <td>NaN</td>\n",
       "      <td>8.4092</td>\n",
       "      <td>NaN</td>\n",
       "      <td>372.30</td>\n",
       "      <td>16040.83</td>\n",
       "      <td>3.9894</td>\n",
       "      <td>88.8055</td>\n",
       "      <td>150.7</td>\n",
       "      <td>149.63</td>\n",
       "      <td>1424.30</td>\n",
       "      <td>NaN</td>\n",
       "      <td>NaN</td>\n",
       "      <td>NaN</td>\n",
       "      <td>19.0797</td>\n",
       "      <td>4.9655</td>\n",
       "      <td>11.7695</td>\n",
       "      <td>1.7655</td>\n",
       "      <td>60.132</td>\n",
       "      <td>4.5110</td>\n",
       "      <td>4.9495</td>\n",
       "      <td>NaN</td>\n",
       "      <td>11.5490</td>\n",
       "      <td>1.4515</td>\n",
       "      <td>NaN</td>\n",
       "      <td>NaN</td>\n",
       "      <td>37.154</td>\n",
       "      <td>21.3944</td>\n",
       "      <td>1.0735</td>\n",
       "      <td>20.7466</td>\n",
       "    </tr>\n",
       "    <tr>\n",
       "      <th>2</th>\n",
       "      <td>2023-05-24</td>\n",
       "      <td>1.6402</td>\n",
       "      <td>1.9558</td>\n",
       "      <td>5.3397</td>\n",
       "      <td>1.4600</td>\n",
       "      <td>0.9732</td>\n",
       "      <td>7.6005</td>\n",
       "      <td>NaN</td>\n",
       "      <td>23.671</td>\n",
       "      <td>7.4477</td>\n",
       "      <td>NaN</td>\n",
       "      <td>0.86993</td>\n",
       "      <td>NaN</td>\n",
       "      <td>8.4462</td>\n",
       "      <td>NaN</td>\n",
       "      <td>372.70</td>\n",
       "      <td>16063.50</td>\n",
       "      <td>4.0095</td>\n",
       "      <td>89.1473</td>\n",
       "      <td>151.3</td>\n",
       "      <td>149.30</td>\n",
       "      <td>1421.92</td>\n",
       "      <td>NaN</td>\n",
       "      <td>NaN</td>\n",
       "      <td>NaN</td>\n",
       "      <td>19.2493</td>\n",
       "      <td>4.9536</td>\n",
       "      <td>11.8175</td>\n",
       "      <td>1.7582</td>\n",
       "      <td>60.068</td>\n",
       "      <td>4.4900</td>\n",
       "      <td>4.9614</td>\n",
       "      <td>NaN</td>\n",
       "      <td>11.5103</td>\n",
       "      <td>1.4526</td>\n",
       "      <td>NaN</td>\n",
       "      <td>NaN</td>\n",
       "      <td>37.171</td>\n",
       "      <td>21.4487</td>\n",
       "      <td>1.0785</td>\n",
       "      <td>20.7479</td>\n",
       "    </tr>\n",
       "  </tbody>\n",
       "</table>\n",
       "</div>"
      ],
      "text/plain": [
       "        date  Australian dollar  Bulgarian lev  Brazilian real  \\\n",
       "0 2023-05-26             1.6439         1.9558          5.3878   \n",
       "1 2023-05-25             1.6443         1.9558          5.3320   \n",
       "2 2023-05-24             1.6402         1.9558          5.3397   \n",
       "\n",
       "   Canadian dollar  Swiss franc  Chinese yuan renminbi  Cypriot pound  \\\n",
       "0           1.4630       0.9707                 7.5874            NaN   \n",
       "1           1.4599       0.9708                 7.5891            NaN   \n",
       "2           1.4600       0.9732                 7.6005            NaN   \n",
       "\n",
       "   Czech koruna  Danish krone  Estonian kroon  UK pound sterling  \\\n",
       "0        23.648        7.4489             NaN            0.86813   \n",
       "1        23.645        7.4502             NaN            0.86793   \n",
       "2        23.671        7.4477             NaN            0.86993   \n",
       "\n",
       "   Greek drachma  Hong Kong dollar  Croatian kuna  Hungarian forint  \\\n",
       "0            NaN            8.4230            NaN            371.61   \n",
       "1            NaN            8.4092            NaN            372.30   \n",
       "2            NaN            8.4462            NaN            372.70   \n",
       "\n",
       "   Indonesian rupiah  Israeli shekel  Indian rupee  Iceland krona  \\\n",
       "0           16085.65          4.0180       88.8049          149.5   \n",
       "1           16040.83          3.9894       88.8055          150.7   \n",
       "2           16063.50          4.0095       89.1473          151.3   \n",
       "\n",
       "   Japanese yen  Korean won  Lithuanian litas  Latvian lats  Maltese lira  \\\n",
       "0        150.24     1425.46               NaN           NaN           NaN   \n",
       "1        149.63     1424.30               NaN           NaN           NaN   \n",
       "2        149.30     1421.92               NaN           NaN           NaN   \n",
       "\n",
       "   Mexican peso  Malaysian ringgit  Norwegian krone  New Zealand dollar  \\\n",
       "0       19.0690             4.9465          11.8218              1.7656   \n",
       "1       19.0797             4.9655          11.7695              1.7655   \n",
       "2       19.2493             4.9536          11.8175              1.7582   \n",
       "\n",
       "   Philippine peso  Polish zloty  Romanian leu  Russian rouble  Swedish krona  \\\n",
       "0           60.011        4.5354        4.9572             NaN        11.5280   \n",
       "1           60.132        4.5110        4.9495             NaN        11.5490   \n",
       "2           60.068        4.4900        4.9614             NaN        11.5103   \n",
       "\n",
       "   Singapore dollar  Slovenian tolar  Slovak koruna  Thai baht  Turkish lira  \\\n",
       "0            1.4520              NaN            NaN     37.263       21.5340   \n",
       "1            1.4515              NaN            NaN     37.154       21.3944   \n",
       "2            1.4526              NaN            NaN     37.171       21.4487   \n",
       "\n",
       "   US dollar  South African rand  \n",
       "0     1.0751             21.0148  \n",
       "1     1.0735             20.7466  \n",
       "2     1.0785             20.7479  "
      ]
     },
     "execution_count": 23,
     "metadata": {},
     "output_type": "execute_result"
    }
   ],
   "source": [
    "df[:3]"
   ]
  },
  {
   "cell_type": "markdown",
   "metadata": {
    "id": "ONxA9LWhXqAe"
   },
   "source": [
    "## 3.3 Automatizado os cálculos das anomalias"
   ]
  },
  {
   "cell_type": "markdown",
   "metadata": {},
   "source": [
    "### 3.3.1 Função que monta atabela com os cálculos"
   ]
  },
  {
   "cell_type": "code",
   "execution_count": 24,
   "metadata": {},
   "outputs": [],
   "source": [
    "def _calc_anomaly_(\n",
    "    base = df,\n",
    "    country_currency = 'Brazilian real',\n",
    "    rolling_window = 60\n",
    "):\n",
    "    # precisa fazer o tratamento adequado aqui, nulos, zeros, caracteres especiais...\n",
    "    df_currency = base[['date',country_currency]]\n",
    "    df_currency[country_currency] = df_currency[country_currency]\n",
    "\n",
    "    df_currency = df_currency.sort_values(by=['date'], ascending = True)\n",
    "\n",
    "    rolling_window = 60\n",
    "\n",
    "    # Calcule Q1, Q2 e Q3 com base nos valores dos 60 dias anteriores, excluindo a linha atual\n",
    "    df_add = df_currency.copy()\n",
    "    df_add['Q1'] = df_add[country_currency].rolling(window=rolling_window, min_periods=1).quantile(0.25)\n",
    "    df_add['Q2'] = df_add[country_currency].rolling(window=rolling_window, min_periods=1).quantile(0.50)\n",
    "    df_add['Q3'] = df_add[country_currency].rolling(window=rolling_window, min_periods=1).quantile(0.75)\n",
    "    df_add = df_add.sort_values(by=['date'], ascending=False)\n",
    "\n",
    "    df_add_quantiles = df_add[1:].drop(\n",
    "        ['date',country_currency], axis=1\n",
    "    )\n",
    "\n",
    "    df_add_quantiles = pd.concat(\n",
    "        [df_add_quantiles, df_add_quantiles.iloc[-1:]]\n",
    "        , ignore_index=True, axis=0\n",
    "    )\n",
    "\n",
    "    df_currency = df_currency.sort_values(by=['date'], ascending=False).reset_index().drop('index',axis=1)\n",
    "\n",
    "    df_final = pd.concat(\n",
    "        [df_currency,df_add_quantiles]\n",
    "        ,ignore_index = True\n",
    "        ,axis = 1\n",
    "    )\n",
    "\n",
    "    df_final.columns = ['date',country_currency,'Q1','Q2','Q3']\n",
    "\n",
    "    df_final['IQR'] = df_final.Q3 - df_final.Q1\n",
    "    df_final['lower_bound'] = df_final.Q1 - 1.5 * df_final.IQR\n",
    "    df_final['upper_bound'] = df_final.Q1 + 1.5 * df_final.IQR\n",
    "    df_final['outlier_neg'] = df_final[country_currency] < df_final['lower_bound']\n",
    "    df_final['outlier_pos'] = df_final[country_currency] > df_final['upper_bound']\n",
    "    df_final['is_outlier'] = (df_final.outlier_neg == True) | (df_final.outlier_pos == True)\n",
    "\n",
    "    return df_final"
   ]
  },
  {
   "cell_type": "markdown",
   "metadata": {},
   "source": [
    "### 3.3.2 Função que plota o histórico, identificando as anomalias"
   ]
  },
  {
   "cell_type": "code",
   "execution_count": 25,
   "metadata": {},
   "outputs": [],
   "source": [
    "def _graph_anomaly_seaborn(\n",
    "    base=df,\n",
    "    country_currency='Brazilian real',\n",
    "    rolling_window=60\n",
    "):\n",
    "    df_final = _calc_anomaly_(\n",
    "        base=base,\n",
    "        country_currency=country_currency,\n",
    "        rolling_window=rolling_window\n",
    "    )\n",
    "\n",
    "    plt.figure(figsize=(12, 6))\n",
    "\n",
    "    # Linha principal\n",
    "    sns.lineplot(data=df_final, x='date', y=country_currency, color='gray', label=country_currency.title())\n",
    "\n",
    "    # Outliers negativos\n",
    "    outlier_neg_indices = df_final[df_final['outlier_neg']].index\n",
    "    sns.scatterplot(x=df_final['date'].iloc[outlier_neg_indices], y=df_final[country_currency].iloc[outlier_neg_indices], color='blue', label='Outlier Negativo')\n",
    "\n",
    "    # Rótulos para outliers negativos\n",
    "    for i in outlier_neg_indices:\n",
    "        plt.text(df_final['date'].iloc[i], df_final[country_currency].iloc[i], f\"{df_final[country_currency].iloc[i]:.2f}\", color='blue')\n",
    "\n",
    "    # Outliers positivos\n",
    "    outlier_pos_indices = df_final[df_final['outlier_pos']].index\n",
    "    sns.scatterplot(x=df_final['date'].iloc[outlier_pos_indices], y=df_final[country_currency].iloc[outlier_pos_indices], color='red', label='Outlier Positivo')\n",
    "\n",
    "    # Rótulos para outliers positivos\n",
    "    for i in outlier_pos_indices:\n",
    "        plt.text(df_final['date'].iloc[i], df_final[country_currency].iloc[i], f\"{df_final[country_currency].iloc[i]:.2f}\", color='red')\n",
    "\n",
    "    # Média móvel\n",
    "    rolling_mean = df_final[country_currency].rolling(window=rolling_window).mean()\n",
    "    sns.lineplot(data=df_final, x='date', y=rolling_mean, color='green', linestyle='--', label=f'Média Móvel ({rolling_window} dias)')\n",
    "\n",
    "    plt.title(f'Detecção de Anomalias & Média Móvel com range de {rolling_window} dias')\n",
    "    plt.xlabel('Data')\n",
    "    plt.ylabel(f'Valor {country_currency.title()}')\n",
    "    plt.legend(loc='upper left', bbox_to_anchor=(1, 1))\n",
    "\n",
    "    plt.show()\n",
    "    "
   ]
  },
  {
   "cell_type": "code",
   "execution_count": 26,
   "metadata": {
    "id": "SFQG1nS9a8gw"
   },
   "outputs": [],
   "source": [
    "## Usando Plotly\n",
    "def _graph_anomaly_plotly(\n",
    "    base = df,\n",
    "    country_currency = 'Brazilian real',\n",
    "    rolling_window = 60\n",
    "):\n",
    "\n",
    "    df_final = _calc_anomaly_(\n",
    "        base = base,\n",
    "        country_currency = country_currency,\n",
    "        rolling_window = rolling_window\n",
    "    )\n",
    "\n",
    "    fig = go.Figure()\n",
    "\n",
    "    fig.add_trace(go.Scatter(x=df_final['date'], y=df_final[country_currency], mode='lines', line=dict(color='gray'), name=country_currency.title()))\n",
    "\n",
    "    outlier_neg_indices = df_final[df_final['outlier_neg']].index\n",
    "    fig.add_trace(go.Scatter(x=df_final['date'].iloc[outlier_neg_indices], y=df_final[country_currency].iloc[outlier_neg_indices], mode='markers', marker=dict(color='blue'), name='Outlier Negativo'))\n",
    "\n",
    "    outlier_pos_indices = df_final[df_final['outlier_pos']].index\n",
    "    fig.add_trace(go.Scatter(x=df_final['date'].iloc[outlier_pos_indices], y=df_final[country_currency].iloc[outlier_pos_indices], mode='markers', marker=dict(color='red'), name='Outlier Positivo'))\n",
    "\n",
    "    rolling_mean = df_final[country_currency].rolling(window=rolling_window).mean()\n",
    "    fig.add_trace(go.Scatter(x=df_final['date'], y=rolling_mean, mode='lines', line=dict(color='green', dash='dash'), name='Média Móvel (30 dias)'))\n",
    "\n",
    "    fig.update_layout(title=f'Detecção de Anomalias & Média Móvel com range de {rolling_window} dias',\n",
    "                      xaxis_title='Data',\n",
    "                      yaxis_title='Valor ' + country_currency.title(),\n",
    "                      legend=dict(orientation=\"v\", yanchor=\"bottom\", y=1.02, xanchor=\"left\", x=1),\n",
    "                      showlegend=True)\n",
    "\n",
    "    return fig.show()\n"
   ]
  },
  {
   "cell_type": "markdown",
   "metadata": {},
   "source": [
    "### 3.3.3 Visulaizando o resultado (2023)"
   ]
  },
  {
   "cell_type": "code",
   "execution_count": 27,
   "metadata": {},
   "outputs": [],
   "source": [
    "df_2023 = df.query(\"date >= '2023-01-01'\")"
   ]
  },
  {
   "cell_type": "markdown",
   "metadata": {},
   "source": [
    "#### 3.3.3.1 Real (R$) x Euro (£)"
   ]
  },
  {
   "cell_type": "code",
   "execution_count": 28,
   "metadata": {},
   "outputs": [
    {
     "data": {
      "text/html": [
       "<div>\n",
       "<style scoped>\n",
       "    .dataframe tbody tr th:only-of-type {\n",
       "        vertical-align: middle;\n",
       "    }\n",
       "\n",
       "    .dataframe tbody tr th {\n",
       "        vertical-align: top;\n",
       "    }\n",
       "\n",
       "    .dataframe thead th {\n",
       "        text-align: right;\n",
       "    }\n",
       "</style>\n",
       "<table border=\"1\" class=\"dataframe\">\n",
       "  <thead>\n",
       "    <tr style=\"text-align: right;\">\n",
       "      <th></th>\n",
       "      <th>date</th>\n",
       "      <th>Brazilian real</th>\n",
       "      <th>Q1</th>\n",
       "      <th>Q2</th>\n",
       "      <th>Q3</th>\n",
       "      <th>IQR</th>\n",
       "      <th>lower_bound</th>\n",
       "      <th>upper_bound</th>\n",
       "      <th>outlier_neg</th>\n",
       "      <th>outlier_pos</th>\n",
       "      <th>is_outlier</th>\n",
       "    </tr>\n",
       "  </thead>\n",
       "  <tbody>\n",
       "    <tr>\n",
       "      <th>0</th>\n",
       "      <td>2023-05-26</td>\n",
       "      <td>5.3878</td>\n",
       "      <td>5.436200</td>\n",
       "      <td>5.51395</td>\n",
       "      <td>5.568625</td>\n",
       "      <td>0.132425</td>\n",
       "      <td>5.237562</td>\n",
       "      <td>5.634837</td>\n",
       "      <td>False</td>\n",
       "      <td>False</td>\n",
       "      <td>False</td>\n",
       "    </tr>\n",
       "    <tr>\n",
       "      <th>1</th>\n",
       "      <td>2023-05-25</td>\n",
       "      <td>5.3320</td>\n",
       "      <td>5.447525</td>\n",
       "      <td>5.51395</td>\n",
       "      <td>5.568625</td>\n",
       "      <td>0.121100</td>\n",
       "      <td>5.265875</td>\n",
       "      <td>5.629175</td>\n",
       "      <td>False</td>\n",
       "      <td>False</td>\n",
       "      <td>False</td>\n",
       "    </tr>\n",
       "    <tr>\n",
       "      <th>2</th>\n",
       "      <td>2023-05-24</td>\n",
       "      <td>5.3397</td>\n",
       "      <td>5.450675</td>\n",
       "      <td>5.51395</td>\n",
       "      <td>5.568625</td>\n",
       "      <td>0.117950</td>\n",
       "      <td>5.273750</td>\n",
       "      <td>5.627600</td>\n",
       "      <td>False</td>\n",
       "      <td>False</td>\n",
       "      <td>False</td>\n",
       "    </tr>\n",
       "    <tr>\n",
       "      <th>3</th>\n",
       "      <td>2023-05-23</td>\n",
       "      <td>5.3649</td>\n",
       "      <td>5.458725</td>\n",
       "      <td>5.51395</td>\n",
       "      <td>5.568625</td>\n",
       "      <td>0.109900</td>\n",
       "      <td>5.293875</td>\n",
       "      <td>5.623575</td>\n",
       "      <td>False</td>\n",
       "      <td>False</td>\n",
       "      <td>False</td>\n",
       "    </tr>\n",
       "    <tr>\n",
       "      <th>4</th>\n",
       "      <td>2023-05-22</td>\n",
       "      <td>5.4056</td>\n",
       "      <td>5.462800</td>\n",
       "      <td>5.51395</td>\n",
       "      <td>5.568625</td>\n",
       "      <td>0.105825</td>\n",
       "      <td>5.304062</td>\n",
       "      <td>5.621538</td>\n",
       "      <td>False</td>\n",
       "      <td>False</td>\n",
       "      <td>False</td>\n",
       "    </tr>\n",
       "  </tbody>\n",
       "</table>\n",
       "</div>"
      ],
      "text/plain": [
       "        date  Brazilian real        Q1       Q2        Q3       IQR  \\\n",
       "0 2023-05-26          5.3878  5.436200  5.51395  5.568625  0.132425   \n",
       "1 2023-05-25          5.3320  5.447525  5.51395  5.568625  0.121100   \n",
       "2 2023-05-24          5.3397  5.450675  5.51395  5.568625  0.117950   \n",
       "3 2023-05-23          5.3649  5.458725  5.51395  5.568625  0.109900   \n",
       "4 2023-05-22          5.4056  5.462800  5.51395  5.568625  0.105825   \n",
       "\n",
       "   lower_bound  upper_bound  outlier_neg  outlier_pos  is_outlier  \n",
       "0     5.237562     5.634837        False        False       False  \n",
       "1     5.265875     5.629175        False        False       False  \n",
       "2     5.273750     5.627600        False        False       False  \n",
       "3     5.293875     5.623575        False        False       False  \n",
       "4     5.304062     5.621538        False        False       False  "
      ]
     },
     "execution_count": 28,
     "metadata": {},
     "output_type": "execute_result"
    }
   ],
   "source": [
    "# Últimos 5 dias da base\n",
    "_calc_anomaly_(\n",
    "    base = df_2023,\n",
    "    country_currency = 'Brazilian real',\n",
    "    rolling_window = 30\n",
    ")[:5]"
   ]
  },
  {
   "cell_type": "code",
   "execution_count": 29,
   "metadata": {
    "colab": {
     "base_uri": "https://localhost:8080/",
     "height": 706
    },
    "executionInfo": {
     "elapsed": 14,
     "status": "ok",
     "timestamp": 1697460562286,
     "user": {
      "displayName": "Felipe Barreto",
      "userId": "12704356492697410725"
     },
     "user_tz": 180
    },
    "id": "UXB_JlNnh-Ig",
    "outputId": "c24109ec-3baf-49d2-a4ea-48665463d640"
   },
   "outputs": [
    {
     "data": {
      "application/vnd.plotly.v1+json": {
       "config": {
        "plotlyServerURL": "https://plot.ly"
       },
       "data": [
        {
         "line": {
          "color": "gray"
         },
         "mode": "lines",
         "name": "Brazilian Real",
         "type": "scatter",
         "x": [
          "2023-05-26T00:00:00",
          "2023-05-25T00:00:00",
          "2023-05-24T00:00:00",
          "2023-05-23T00:00:00",
          "2023-05-22T00:00:00",
          "2023-05-19T00:00:00",
          "2023-05-18T00:00:00",
          "2023-05-17T00:00:00",
          "2023-05-16T00:00:00",
          "2023-05-15T00:00:00",
          "2023-05-12T00:00:00",
          "2023-05-11T00:00:00",
          "2023-05-10T00:00:00",
          "2023-05-09T00:00:00",
          "2023-05-08T00:00:00",
          "2023-05-05T00:00:00",
          "2023-05-04T00:00:00",
          "2023-05-03T00:00:00",
          "2023-05-02T00:00:00",
          "2023-04-28T00:00:00",
          "2023-04-27T00:00:00",
          "2023-04-26T00:00:00",
          "2023-04-25T00:00:00",
          "2023-04-24T00:00:00",
          "2023-04-21T00:00:00",
          "2023-04-20T00:00:00",
          "2023-04-19T00:00:00",
          "2023-04-18T00:00:00",
          "2023-04-17T00:00:00",
          "2023-04-14T00:00:00",
          "2023-04-13T00:00:00",
          "2023-04-12T00:00:00",
          "2023-04-11T00:00:00",
          "2023-04-06T00:00:00",
          "2023-04-05T00:00:00",
          "2023-04-04T00:00:00",
          "2023-04-03T00:00:00",
          "2023-03-31T00:00:00",
          "2023-03-30T00:00:00",
          "2023-03-29T00:00:00",
          "2023-03-28T00:00:00",
          "2023-03-27T00:00:00",
          "2023-03-24T00:00:00",
          "2023-03-23T00:00:00",
          "2023-03-22T00:00:00",
          "2023-03-21T00:00:00",
          "2023-03-20T00:00:00",
          "2023-03-17T00:00:00",
          "2023-03-16T00:00:00",
          "2023-03-15T00:00:00",
          "2023-03-14T00:00:00",
          "2023-03-13T00:00:00",
          "2023-03-10T00:00:00",
          "2023-03-09T00:00:00",
          "2023-03-08T00:00:00",
          "2023-03-07T00:00:00",
          "2023-03-06T00:00:00",
          "2023-03-03T00:00:00",
          "2023-03-02T00:00:00",
          "2023-03-01T00:00:00",
          "2023-02-28T00:00:00",
          "2023-02-27T00:00:00",
          "2023-02-24T00:00:00",
          "2023-02-23T00:00:00",
          "2023-02-22T00:00:00",
          "2023-02-21T00:00:00",
          "2023-02-20T00:00:00",
          "2023-02-17T00:00:00",
          "2023-02-16T00:00:00",
          "2023-02-15T00:00:00",
          "2023-02-14T00:00:00",
          "2023-02-13T00:00:00",
          "2023-02-10T00:00:00",
          "2023-02-09T00:00:00",
          "2023-02-08T00:00:00",
          "2023-02-07T00:00:00",
          "2023-02-06T00:00:00",
          "2023-02-03T00:00:00",
          "2023-02-02T00:00:00",
          "2023-02-01T00:00:00",
          "2023-01-31T00:00:00",
          "2023-01-30T00:00:00",
          "2023-01-27T00:00:00",
          "2023-01-26T00:00:00",
          "2023-01-25T00:00:00",
          "2023-01-24T00:00:00",
          "2023-01-23T00:00:00",
          "2023-01-20T00:00:00",
          "2023-01-19T00:00:00",
          "2023-01-18T00:00:00",
          "2023-01-17T00:00:00",
          "2023-01-16T00:00:00",
          "2023-01-13T00:00:00",
          "2023-01-12T00:00:00",
          "2023-01-11T00:00:00",
          "2023-01-10T00:00:00",
          "2023-01-09T00:00:00",
          "2023-01-06T00:00:00",
          "2023-01-05T00:00:00",
          "2023-01-04T00:00:00",
          "2023-01-03T00:00:00",
          "2023-01-02T00:00:00"
         ],
         "y": [
          5.3878,
          5.332,
          5.3397,
          5.3649,
          5.4056,
          5.3554,
          5.3612,
          5.3728,
          5.334,
          5.3431,
          5.3844,
          5.4218,
          5.4497,
          5.4863,
          5.4613,
          5.496,
          5.5194,
          5.5521,
          5.4853,
          5.4872,
          5.5532,
          5.5739,
          5.5729,
          5.5788,
          5.5432,
          5.5484,
          5.4843,
          5.3899,
          5.3861,
          5.441,
          5.4117,
          5.4635,
          5.5072,
          5.5096,
          5.5497,
          5.5121,
          5.4786,
          5.5158,
          5.5531,
          5.5958,
          5.608,
          5.6362,
          5.7298,
          5.6995,
          5.6683,
          5.6491,
          5.6183,
          5.5872,
          5.6005,
          5.5672,
          5.6136,
          5.6256,
          5.5037,
          5.4202,
          5.451,
          5.5224,
          5.5356,
          5.5248,
          5.5242,
          5.5535,
          5.528,
          5.4848,
          5.4633,
          5.4765,
          5.5008,
          5.511,
          5.5162,
          5.5487,
          5.609,
          5.586,
          5.5552,
          5.5576,
          5.6245,
          5.6165,
          5.5644,
          5.5216,
          5.5625,
          5.5414,
          5.4859,
          5.5174,
          5.5373,
          5.5654,
          5.5104,
          5.5572,
          5.569,
          5.6164,
          5.6372,
          5.6271,
          5.6326,
          5.5252,
          5.5607,
          5.524,
          5.5512,
          5.5556,
          5.584,
          5.6471,
          5.6475,
          5.6034,
          5.706,
          5.7758,
          5.6656,
          5.7048
         ]
        },
        {
         "marker": {
          "color": "blue"
         },
         "mode": "markers",
         "name": "Outlier Negativo",
         "type": "scatter",
         "x": [
          "2023-05-16T00:00:00",
          "2023-05-15T00:00:00",
          "2023-01-06T00:00:00",
          "2023-01-03T00:00:00"
         ],
         "y": [
          5.334,
          5.3431,
          5.6034,
          5.6656
         ]
        },
        {
         "marker": {
          "color": "red"
         },
         "mode": "markers",
         "name": "Outlier Positivo",
         "type": "scatter",
         "x": [
          "2023-03-24T00:00:00",
          "2023-03-23T00:00:00",
          "2023-03-22T00:00:00",
          "2023-01-04T00:00:00"
         ],
         "y": [
          5.7298,
          5.6995,
          5.6683,
          5.7758
         ]
        },
        {
         "line": {
          "color": "green",
          "dash": "dash"
         },
         "mode": "lines",
         "name": "Média Móvel (30 dias)",
         "type": "scatter",
         "x": [
          "2023-05-26T00:00:00",
          "2023-05-25T00:00:00",
          "2023-05-24T00:00:00",
          "2023-05-23T00:00:00",
          "2023-05-22T00:00:00",
          "2023-05-19T00:00:00",
          "2023-05-18T00:00:00",
          "2023-05-17T00:00:00",
          "2023-05-16T00:00:00",
          "2023-05-15T00:00:00",
          "2023-05-12T00:00:00",
          "2023-05-11T00:00:00",
          "2023-05-10T00:00:00",
          "2023-05-09T00:00:00",
          "2023-05-08T00:00:00",
          "2023-05-05T00:00:00",
          "2023-05-04T00:00:00",
          "2023-05-03T00:00:00",
          "2023-05-02T00:00:00",
          "2023-04-28T00:00:00",
          "2023-04-27T00:00:00",
          "2023-04-26T00:00:00",
          "2023-04-25T00:00:00",
          "2023-04-24T00:00:00",
          "2023-04-21T00:00:00",
          "2023-04-20T00:00:00",
          "2023-04-19T00:00:00",
          "2023-04-18T00:00:00",
          "2023-04-17T00:00:00",
          "2023-04-14T00:00:00",
          "2023-04-13T00:00:00",
          "2023-04-12T00:00:00",
          "2023-04-11T00:00:00",
          "2023-04-06T00:00:00",
          "2023-04-05T00:00:00",
          "2023-04-04T00:00:00",
          "2023-04-03T00:00:00",
          "2023-03-31T00:00:00",
          "2023-03-30T00:00:00",
          "2023-03-29T00:00:00",
          "2023-03-28T00:00:00",
          "2023-03-27T00:00:00",
          "2023-03-24T00:00:00",
          "2023-03-23T00:00:00",
          "2023-03-22T00:00:00",
          "2023-03-21T00:00:00",
          "2023-03-20T00:00:00",
          "2023-03-17T00:00:00",
          "2023-03-16T00:00:00",
          "2023-03-15T00:00:00",
          "2023-03-14T00:00:00",
          "2023-03-13T00:00:00",
          "2023-03-10T00:00:00",
          "2023-03-09T00:00:00",
          "2023-03-08T00:00:00",
          "2023-03-07T00:00:00",
          "2023-03-06T00:00:00",
          "2023-03-03T00:00:00",
          "2023-03-02T00:00:00",
          "2023-03-01T00:00:00",
          "2023-02-28T00:00:00",
          "2023-02-27T00:00:00",
          "2023-02-24T00:00:00",
          "2023-02-23T00:00:00",
          "2023-02-22T00:00:00",
          "2023-02-21T00:00:00",
          "2023-02-20T00:00:00",
          "2023-02-17T00:00:00",
          "2023-02-16T00:00:00",
          "2023-02-15T00:00:00",
          "2023-02-14T00:00:00",
          "2023-02-13T00:00:00",
          "2023-02-10T00:00:00",
          "2023-02-09T00:00:00",
          "2023-02-08T00:00:00",
          "2023-02-07T00:00:00",
          "2023-02-06T00:00:00",
          "2023-02-03T00:00:00",
          "2023-02-02T00:00:00",
          "2023-02-01T00:00:00",
          "2023-01-31T00:00:00",
          "2023-01-30T00:00:00",
          "2023-01-27T00:00:00",
          "2023-01-26T00:00:00",
          "2023-01-25T00:00:00",
          "2023-01-24T00:00:00",
          "2023-01-23T00:00:00",
          "2023-01-20T00:00:00",
          "2023-01-19T00:00:00",
          "2023-01-18T00:00:00",
          "2023-01-17T00:00:00",
          "2023-01-16T00:00:00",
          "2023-01-13T00:00:00",
          "2023-01-12T00:00:00",
          "2023-01-11T00:00:00",
          "2023-01-10T00:00:00",
          "2023-01-09T00:00:00",
          "2023-01-06T00:00:00",
          "2023-01-05T00:00:00",
          "2023-01-04T00:00:00",
          "2023-01-03T00:00:00",
          "2023-01-02T00:00:00"
         ],
         "y": [
          null,
          null,
          null,
          null,
          null,
          null,
          null,
          null,
          null,
          null,
          null,
          null,
          null,
          null,
          null,
          null,
          null,
          null,
          null,
          null,
          null,
          null,
          null,
          null,
          null,
          null,
          null,
          null,
          null,
          5.447056666666667,
          5.447853333333333,
          5.452236666666667,
          5.457819999999999,
          5.462643333333333,
          5.467446666666666,
          5.47267,
          5.476583333333333,
          5.481350000000001,
          5.488653333333334,
          5.4970766666666675,
          5.50453,
          5.5116766666666654,
          5.521013333333333,
          5.52812,
          5.535019999999999,
          5.540123333333333,
          5.543419999999999,
          5.5445899999999995,
          5.54843,
          5.551096666666666,
          5.55311,
          5.554833333333334,
          5.552526666666667,
          5.54724,
          5.5441666666666665,
          5.5433,
          5.5450099999999996,
          5.549506666666667,
          5.55411,
          5.557860000000001,
          5.5617366666666666,
          5.562446666666667,
          5.560983333333334,
          5.559880000000001,
          5.55825,
          5.558213333333333,
          5.559466666666666,
          5.560563333333333,
          5.562426666666666,
          5.5621,
          5.56034,
          5.557720000000001,
          5.554209999999999,
          5.551443333333333,
          5.54798,
          5.54373,
          5.54187,
          5.540343333333334,
          5.536523333333333,
          5.534863333333334,
          5.5323199999999995,
          5.530313333333334,
          5.530536666666666,
          5.535103333333334,
          5.539036666666666,
          5.54217,
          5.545556666666667,
          5.548966666666668,
          5.552580000000001,
          5.551636666666666,
          5.552726666666667,
          5.554033333333333,
          5.556963333333333,
          5.5596000000000005,
          5.5623733333333325,
          5.566910000000001,
          5.5712866666666665,
          5.573110000000001,
          5.576343333333333,
          5.582669999999999,
          5.58635,
          5.591256666666666
         ]
        }
       ],
       "layout": {
        "legend": {
         "orientation": "v",
         "x": 1,
         "xanchor": "left",
         "y": 1.02,
         "yanchor": "bottom"
        },
        "showlegend": true,
        "template": {
         "data": {
          "bar": [
           {
            "error_x": {
             "color": "#2a3f5f"
            },
            "error_y": {
             "color": "#2a3f5f"
            },
            "marker": {
             "line": {
              "color": "#E5ECF6",
              "width": 0.5
             },
             "pattern": {
              "fillmode": "overlay",
              "size": 10,
              "solidity": 0.2
             }
            },
            "type": "bar"
           }
          ],
          "barpolar": [
           {
            "marker": {
             "line": {
              "color": "#E5ECF6",
              "width": 0.5
             },
             "pattern": {
              "fillmode": "overlay",
              "size": 10,
              "solidity": 0.2
             }
            },
            "type": "barpolar"
           }
          ],
          "carpet": [
           {
            "aaxis": {
             "endlinecolor": "#2a3f5f",
             "gridcolor": "white",
             "linecolor": "white",
             "minorgridcolor": "white",
             "startlinecolor": "#2a3f5f"
            },
            "baxis": {
             "endlinecolor": "#2a3f5f",
             "gridcolor": "white",
             "linecolor": "white",
             "minorgridcolor": "white",
             "startlinecolor": "#2a3f5f"
            },
            "type": "carpet"
           }
          ],
          "choropleth": [
           {
            "colorbar": {
             "outlinewidth": 0,
             "ticks": ""
            },
            "type": "choropleth"
           }
          ],
          "contour": [
           {
            "colorbar": {
             "outlinewidth": 0,
             "ticks": ""
            },
            "colorscale": [
             [
              0,
              "#0d0887"
             ],
             [
              0.1111111111111111,
              "#46039f"
             ],
             [
              0.2222222222222222,
              "#7201a8"
             ],
             [
              0.3333333333333333,
              "#9c179e"
             ],
             [
              0.4444444444444444,
              "#bd3786"
             ],
             [
              0.5555555555555556,
              "#d8576b"
             ],
             [
              0.6666666666666666,
              "#ed7953"
             ],
             [
              0.7777777777777778,
              "#fb9f3a"
             ],
             [
              0.8888888888888888,
              "#fdca26"
             ],
             [
              1,
              "#f0f921"
             ]
            ],
            "type": "contour"
           }
          ],
          "contourcarpet": [
           {
            "colorbar": {
             "outlinewidth": 0,
             "ticks": ""
            },
            "type": "contourcarpet"
           }
          ],
          "heatmap": [
           {
            "colorbar": {
             "outlinewidth": 0,
             "ticks": ""
            },
            "colorscale": [
             [
              0,
              "#0d0887"
             ],
             [
              0.1111111111111111,
              "#46039f"
             ],
             [
              0.2222222222222222,
              "#7201a8"
             ],
             [
              0.3333333333333333,
              "#9c179e"
             ],
             [
              0.4444444444444444,
              "#bd3786"
             ],
             [
              0.5555555555555556,
              "#d8576b"
             ],
             [
              0.6666666666666666,
              "#ed7953"
             ],
             [
              0.7777777777777778,
              "#fb9f3a"
             ],
             [
              0.8888888888888888,
              "#fdca26"
             ],
             [
              1,
              "#f0f921"
             ]
            ],
            "type": "heatmap"
           }
          ],
          "heatmapgl": [
           {
            "colorbar": {
             "outlinewidth": 0,
             "ticks": ""
            },
            "colorscale": [
             [
              0,
              "#0d0887"
             ],
             [
              0.1111111111111111,
              "#46039f"
             ],
             [
              0.2222222222222222,
              "#7201a8"
             ],
             [
              0.3333333333333333,
              "#9c179e"
             ],
             [
              0.4444444444444444,
              "#bd3786"
             ],
             [
              0.5555555555555556,
              "#d8576b"
             ],
             [
              0.6666666666666666,
              "#ed7953"
             ],
             [
              0.7777777777777778,
              "#fb9f3a"
             ],
             [
              0.8888888888888888,
              "#fdca26"
             ],
             [
              1,
              "#f0f921"
             ]
            ],
            "type": "heatmapgl"
           }
          ],
          "histogram": [
           {
            "marker": {
             "pattern": {
              "fillmode": "overlay",
              "size": 10,
              "solidity": 0.2
             }
            },
            "type": "histogram"
           }
          ],
          "histogram2d": [
           {
            "colorbar": {
             "outlinewidth": 0,
             "ticks": ""
            },
            "colorscale": [
             [
              0,
              "#0d0887"
             ],
             [
              0.1111111111111111,
              "#46039f"
             ],
             [
              0.2222222222222222,
              "#7201a8"
             ],
             [
              0.3333333333333333,
              "#9c179e"
             ],
             [
              0.4444444444444444,
              "#bd3786"
             ],
             [
              0.5555555555555556,
              "#d8576b"
             ],
             [
              0.6666666666666666,
              "#ed7953"
             ],
             [
              0.7777777777777778,
              "#fb9f3a"
             ],
             [
              0.8888888888888888,
              "#fdca26"
             ],
             [
              1,
              "#f0f921"
             ]
            ],
            "type": "histogram2d"
           }
          ],
          "histogram2dcontour": [
           {
            "colorbar": {
             "outlinewidth": 0,
             "ticks": ""
            },
            "colorscale": [
             [
              0,
              "#0d0887"
             ],
             [
              0.1111111111111111,
              "#46039f"
             ],
             [
              0.2222222222222222,
              "#7201a8"
             ],
             [
              0.3333333333333333,
              "#9c179e"
             ],
             [
              0.4444444444444444,
              "#bd3786"
             ],
             [
              0.5555555555555556,
              "#d8576b"
             ],
             [
              0.6666666666666666,
              "#ed7953"
             ],
             [
              0.7777777777777778,
              "#fb9f3a"
             ],
             [
              0.8888888888888888,
              "#fdca26"
             ],
             [
              1,
              "#f0f921"
             ]
            ],
            "type": "histogram2dcontour"
           }
          ],
          "mesh3d": [
           {
            "colorbar": {
             "outlinewidth": 0,
             "ticks": ""
            },
            "type": "mesh3d"
           }
          ],
          "parcoords": [
           {
            "line": {
             "colorbar": {
              "outlinewidth": 0,
              "ticks": ""
             }
            },
            "type": "parcoords"
           }
          ],
          "pie": [
           {
            "automargin": true,
            "type": "pie"
           }
          ],
          "scatter": [
           {
            "fillpattern": {
             "fillmode": "overlay",
             "size": 10,
             "solidity": 0.2
            },
            "type": "scatter"
           }
          ],
          "scatter3d": [
           {
            "line": {
             "colorbar": {
              "outlinewidth": 0,
              "ticks": ""
             }
            },
            "marker": {
             "colorbar": {
              "outlinewidth": 0,
              "ticks": ""
             }
            },
            "type": "scatter3d"
           }
          ],
          "scattercarpet": [
           {
            "marker": {
             "colorbar": {
              "outlinewidth": 0,
              "ticks": ""
             }
            },
            "type": "scattercarpet"
           }
          ],
          "scattergeo": [
           {
            "marker": {
             "colorbar": {
              "outlinewidth": 0,
              "ticks": ""
             }
            },
            "type": "scattergeo"
           }
          ],
          "scattergl": [
           {
            "marker": {
             "colorbar": {
              "outlinewidth": 0,
              "ticks": ""
             }
            },
            "type": "scattergl"
           }
          ],
          "scattermapbox": [
           {
            "marker": {
             "colorbar": {
              "outlinewidth": 0,
              "ticks": ""
             }
            },
            "type": "scattermapbox"
           }
          ],
          "scatterpolar": [
           {
            "marker": {
             "colorbar": {
              "outlinewidth": 0,
              "ticks": ""
             }
            },
            "type": "scatterpolar"
           }
          ],
          "scatterpolargl": [
           {
            "marker": {
             "colorbar": {
              "outlinewidth": 0,
              "ticks": ""
             }
            },
            "type": "scatterpolargl"
           }
          ],
          "scatterternary": [
           {
            "marker": {
             "colorbar": {
              "outlinewidth": 0,
              "ticks": ""
             }
            },
            "type": "scatterternary"
           }
          ],
          "surface": [
           {
            "colorbar": {
             "outlinewidth": 0,
             "ticks": ""
            },
            "colorscale": [
             [
              0,
              "#0d0887"
             ],
             [
              0.1111111111111111,
              "#46039f"
             ],
             [
              0.2222222222222222,
              "#7201a8"
             ],
             [
              0.3333333333333333,
              "#9c179e"
             ],
             [
              0.4444444444444444,
              "#bd3786"
             ],
             [
              0.5555555555555556,
              "#d8576b"
             ],
             [
              0.6666666666666666,
              "#ed7953"
             ],
             [
              0.7777777777777778,
              "#fb9f3a"
             ],
             [
              0.8888888888888888,
              "#fdca26"
             ],
             [
              1,
              "#f0f921"
             ]
            ],
            "type": "surface"
           }
          ],
          "table": [
           {
            "cells": {
             "fill": {
              "color": "#EBF0F8"
             },
             "line": {
              "color": "white"
             }
            },
            "header": {
             "fill": {
              "color": "#C8D4E3"
             },
             "line": {
              "color": "white"
             }
            },
            "type": "table"
           }
          ]
         },
         "layout": {
          "annotationdefaults": {
           "arrowcolor": "#2a3f5f",
           "arrowhead": 0,
           "arrowwidth": 1
          },
          "autotypenumbers": "strict",
          "coloraxis": {
           "colorbar": {
            "outlinewidth": 0,
            "ticks": ""
           }
          },
          "colorscale": {
           "diverging": [
            [
             0,
             "#8e0152"
            ],
            [
             0.1,
             "#c51b7d"
            ],
            [
             0.2,
             "#de77ae"
            ],
            [
             0.3,
             "#f1b6da"
            ],
            [
             0.4,
             "#fde0ef"
            ],
            [
             0.5,
             "#f7f7f7"
            ],
            [
             0.6,
             "#e6f5d0"
            ],
            [
             0.7,
             "#b8e186"
            ],
            [
             0.8,
             "#7fbc41"
            ],
            [
             0.9,
             "#4d9221"
            ],
            [
             1,
             "#276419"
            ]
           ],
           "sequential": [
            [
             0,
             "#0d0887"
            ],
            [
             0.1111111111111111,
             "#46039f"
            ],
            [
             0.2222222222222222,
             "#7201a8"
            ],
            [
             0.3333333333333333,
             "#9c179e"
            ],
            [
             0.4444444444444444,
             "#bd3786"
            ],
            [
             0.5555555555555556,
             "#d8576b"
            ],
            [
             0.6666666666666666,
             "#ed7953"
            ],
            [
             0.7777777777777778,
             "#fb9f3a"
            ],
            [
             0.8888888888888888,
             "#fdca26"
            ],
            [
             1,
             "#f0f921"
            ]
           ],
           "sequentialminus": [
            [
             0,
             "#0d0887"
            ],
            [
             0.1111111111111111,
             "#46039f"
            ],
            [
             0.2222222222222222,
             "#7201a8"
            ],
            [
             0.3333333333333333,
             "#9c179e"
            ],
            [
             0.4444444444444444,
             "#bd3786"
            ],
            [
             0.5555555555555556,
             "#d8576b"
            ],
            [
             0.6666666666666666,
             "#ed7953"
            ],
            [
             0.7777777777777778,
             "#fb9f3a"
            ],
            [
             0.8888888888888888,
             "#fdca26"
            ],
            [
             1,
             "#f0f921"
            ]
           ]
          },
          "colorway": [
           "#636efa",
           "#EF553B",
           "#00cc96",
           "#ab63fa",
           "#FFA15A",
           "#19d3f3",
           "#FF6692",
           "#B6E880",
           "#FF97FF",
           "#FECB52"
          ],
          "font": {
           "color": "#2a3f5f"
          },
          "geo": {
           "bgcolor": "white",
           "lakecolor": "white",
           "landcolor": "#E5ECF6",
           "showlakes": true,
           "showland": true,
           "subunitcolor": "white"
          },
          "hoverlabel": {
           "align": "left"
          },
          "hovermode": "closest",
          "mapbox": {
           "style": "light"
          },
          "paper_bgcolor": "white",
          "plot_bgcolor": "#E5ECF6",
          "polar": {
           "angularaxis": {
            "gridcolor": "white",
            "linecolor": "white",
            "ticks": ""
           },
           "bgcolor": "#E5ECF6",
           "radialaxis": {
            "gridcolor": "white",
            "linecolor": "white",
            "ticks": ""
           }
          },
          "scene": {
           "xaxis": {
            "backgroundcolor": "#E5ECF6",
            "gridcolor": "white",
            "gridwidth": 2,
            "linecolor": "white",
            "showbackground": true,
            "ticks": "",
            "zerolinecolor": "white"
           },
           "yaxis": {
            "backgroundcolor": "#E5ECF6",
            "gridcolor": "white",
            "gridwidth": 2,
            "linecolor": "white",
            "showbackground": true,
            "ticks": "",
            "zerolinecolor": "white"
           },
           "zaxis": {
            "backgroundcolor": "#E5ECF6",
            "gridcolor": "white",
            "gridwidth": 2,
            "linecolor": "white",
            "showbackground": true,
            "ticks": "",
            "zerolinecolor": "white"
           }
          },
          "shapedefaults": {
           "line": {
            "color": "#2a3f5f"
           }
          },
          "ternary": {
           "aaxis": {
            "gridcolor": "white",
            "linecolor": "white",
            "ticks": ""
           },
           "baxis": {
            "gridcolor": "white",
            "linecolor": "white",
            "ticks": ""
           },
           "bgcolor": "#E5ECF6",
           "caxis": {
            "gridcolor": "white",
            "linecolor": "white",
            "ticks": ""
           }
          },
          "title": {
           "x": 0.05
          },
          "xaxis": {
           "automargin": true,
           "gridcolor": "white",
           "linecolor": "white",
           "ticks": "",
           "title": {
            "standoff": 15
           },
           "zerolinecolor": "white",
           "zerolinewidth": 2
          },
          "yaxis": {
           "automargin": true,
           "gridcolor": "white",
           "linecolor": "white",
           "ticks": "",
           "title": {
            "standoff": 15
           },
           "zerolinecolor": "white",
           "zerolinewidth": 2
          }
         }
        },
        "title": {
         "text": "Detecção de Anomalias & Média Móvel com range de 30 dias"
        },
        "xaxis": {
         "title": {
          "text": "Data"
         }
        },
        "yaxis": {
         "title": {
          "text": "Valor Brazilian Real"
         }
        }
       }
      }
     },
     "metadata": {},
     "output_type": "display_data"
    }
   ],
   "source": [
    "# Plot do histórico com a identificação das anomalias móveis (30 dias)\n",
    "_graph_anomaly_plotly(\n",
    "    base = df_2023,\n",
    "    country_currency = 'Brazilian real',\n",
    "    rolling_window = 30\n",
    ")"
   ]
  },
  {
   "cell_type": "code",
   "execution_count": 30,
   "metadata": {},
   "outputs": [
    {
     "data": {
      "image/png": "[encoded data removed]",
      "text/plain": [
       "<Figure size 1200x600 with 1 Axes>"
      ]
     },
     "metadata": {},
     "output_type": "display_data"
    }
   ],
   "source": [
    "_graph_anomaly_seaborn(\n",
    "    base = df_2023,\n",
    "    country_currency = 'Brazilian real',\n",
    "    rolling_window = 30\n",
    ")"
   ]
  },
  {
   "cell_type": "markdown",
   "metadata": {},
   "source": [
    "#### 3.3.3.2 Dólar Americano (USD) x Euro (£)"
   ]
  },
  {
   "cell_type": "code",
   "execution_count": 14,
   "metadata": {},
   "outputs": [
    {
     "data": {
      "text/html": [
       "<div>\n",
       "<style scoped>\n",
       "    .dataframe tbody tr th:only-of-type {\n",
       "        vertical-align: middle;\n",
       "    }\n",
       "\n",
       "    .dataframe tbody tr th {\n",
       "        vertical-align: top;\n",
       "    }\n",
       "\n",
       "    .dataframe thead th {\n",
       "        text-align: right;\n",
       "    }\n",
       "</style>\n",
       "<table border=\"1\" class=\"dataframe\">\n",
       "  <thead>\n",
       "    <tr style=\"text-align: right;\">\n",
       "      <th></th>\n",
       "      <th>date</th>\n",
       "      <th>US dollar</th>\n",
       "      <th>Q1</th>\n",
       "      <th>Q2</th>\n",
       "      <th>Q3</th>\n",
       "      <th>IQR</th>\n",
       "      <th>lower_bound</th>\n",
       "      <th>upper_bound</th>\n",
       "      <th>outlier_neg</th>\n",
       "      <th>outlier_pos</th>\n",
       "      <th>is_outlier</th>\n",
       "    </tr>\n",
       "  </thead>\n",
       "  <tbody>\n",
       "    <tr>\n",
       "      <th>0</th>\n",
       "      <td>2023-05-26</td>\n",
       "      <td>1.0751</td>\n",
       "      <td>1.073650</td>\n",
       "      <td>1.08755</td>\n",
       "      <td>1.09605</td>\n",
       "      <td>0.022400</td>\n",
       "      <td>1.040050</td>\n",
       "      <td>1.107250</td>\n",
       "      <td>False</td>\n",
       "      <td>False</td>\n",
       "      <td>False</td>\n",
       "    </tr>\n",
       "    <tr>\n",
       "      <th>1</th>\n",
       "      <td>2023-05-25</td>\n",
       "      <td>1.0735</td>\n",
       "      <td>1.073200</td>\n",
       "      <td>1.08755</td>\n",
       "      <td>1.09605</td>\n",
       "      <td>0.022850</td>\n",
       "      <td>1.038925</td>\n",
       "      <td>1.107475</td>\n",
       "      <td>False</td>\n",
       "      <td>False</td>\n",
       "      <td>False</td>\n",
       "    </tr>\n",
       "    <tr>\n",
       "      <th>2</th>\n",
       "      <td>2023-05-24</td>\n",
       "      <td>1.0785</td>\n",
       "      <td>1.071425</td>\n",
       "      <td>1.08755</td>\n",
       "      <td>1.09605</td>\n",
       "      <td>0.024625</td>\n",
       "      <td>1.034488</td>\n",
       "      <td>1.108362</td>\n",
       "      <td>False</td>\n",
       "      <td>False</td>\n",
       "      <td>False</td>\n",
       "    </tr>\n",
       "    <tr>\n",
       "      <th>3</th>\n",
       "      <td>2023-05-23</td>\n",
       "      <td>1.0779</td>\n",
       "      <td>1.070050</td>\n",
       "      <td>1.08755</td>\n",
       "      <td>1.09605</td>\n",
       "      <td>0.026000</td>\n",
       "      <td>1.031050</td>\n",
       "      <td>1.109050</td>\n",
       "      <td>False</td>\n",
       "      <td>False</td>\n",
       "      <td>False</td>\n",
       "    </tr>\n",
       "    <tr>\n",
       "      <th>4</th>\n",
       "      <td>2023-05-22</td>\n",
       "      <td>1.0822</td>\n",
       "      <td>1.067925</td>\n",
       "      <td>1.08755</td>\n",
       "      <td>1.09605</td>\n",
       "      <td>0.028125</td>\n",
       "      <td>1.025737</td>\n",
       "      <td>1.110113</td>\n",
       "      <td>False</td>\n",
       "      <td>False</td>\n",
       "      <td>False</td>\n",
       "    </tr>\n",
       "  </tbody>\n",
       "</table>\n",
       "</div>"
      ],
      "text/plain": [
       "        date  US dollar        Q1       Q2       Q3       IQR  lower_bound  \\\n",
       "0 2023-05-26     1.0751  1.073650  1.08755  1.09605  0.022400     1.040050   \n",
       "1 2023-05-25     1.0735  1.073200  1.08755  1.09605  0.022850     1.038925   \n",
       "2 2023-05-24     1.0785  1.071425  1.08755  1.09605  0.024625     1.034488   \n",
       "3 2023-05-23     1.0779  1.070050  1.08755  1.09605  0.026000     1.031050   \n",
       "4 2023-05-22     1.0822  1.067925  1.08755  1.09605  0.028125     1.025737   \n",
       "\n",
       "   upper_bound  outlier_neg  outlier_pos  is_outlier  \n",
       "0     1.107250        False        False       False  \n",
       "1     1.107475        False        False       False  \n",
       "2     1.108362        False        False       False  \n",
       "3     1.109050        False        False       False  \n",
       "4     1.110113        False        False       False  "
      ]
     },
     "execution_count": 14,
     "metadata": {},
     "output_type": "execute_result"
    }
   ],
   "source": [
    "# Últimos 5 dias da base\n",
    "_calc_anomaly_(\n",
    "    base = df_2023,\n",
    "    country_currency = 'US dollar',\n",
    "    rolling_window = 30\n",
    ")[:5]"
   ]
  },
  {
   "cell_type": "code",
   "execution_count": 15,
   "metadata": {},
   "outputs": [
    {
     "data": {
      "application/vnd.plotly.v1+json": {
       "config": {
        "plotlyServerURL": "https://plot.ly"
       },
       "data": [
        {
         "line": {
          "color": "gray"
         },
         "mode": "lines",
         "name": "Us Dollar",
         "type": "scatter",
         "x": [
          "2023-05-26T00:00:00",
          "2023-05-25T00:00:00",
          "2023-05-24T00:00:00",
          "2023-05-23T00:00:00",
          "2023-05-22T00:00:00",
          "2023-05-19T00:00:00",
          "2023-05-18T00:00:00",
          "2023-05-17T00:00:00",
          "2023-05-16T00:00:00",
          "2023-05-15T00:00:00",
          "2023-05-12T00:00:00",
          "2023-05-11T00:00:00",
          "2023-05-10T00:00:00",
          "2023-05-09T00:00:00",
          "2023-05-08T00:00:00",
          "2023-05-05T00:00:00",
          "2023-05-04T00:00:00",
          "2023-05-03T00:00:00",
          "2023-05-02T00:00:00",
          "2023-04-28T00:00:00",
          "2023-04-27T00:00:00",
          "2023-04-26T00:00:00",
          "2023-04-25T00:00:00",
          "2023-04-24T00:00:00",
          "2023-04-21T00:00:00",
          "2023-04-20T00:00:00",
          "2023-04-19T00:00:00",
          "2023-04-18T00:00:00",
          "2023-04-17T00:00:00",
          "2023-04-14T00:00:00",
          "2023-04-13T00:00:00",
          "2023-04-12T00:00:00",
          "2023-04-11T00:00:00",
          "2023-04-06T00:00:00",
          "2023-04-05T00:00:00",
          "2023-04-04T00:00:00",
          "2023-04-03T00:00:00",
          "2023-03-31T00:00:00",
          "2023-03-30T00:00:00",
          "2023-03-29T00:00:00",
          "2023-03-28T00:00:00",
          "2023-03-27T00:00:00",
          "2023-03-24T00:00:00",
          "2023-03-23T00:00:00",
          "2023-03-22T00:00:00",
          "2023-03-21T00:00:00",
          "2023-03-20T00:00:00",
          "2023-03-17T00:00:00",
          "2023-03-16T00:00:00",
          "2023-03-15T00:00:00",
          "2023-03-14T00:00:00",
          "2023-03-13T00:00:00",
          "2023-03-10T00:00:00",
          "2023-03-09T00:00:00",
          "2023-03-08T00:00:00",
          "2023-03-07T00:00:00",
          "2023-03-06T00:00:00",
          "2023-03-03T00:00:00",
          "2023-03-02T00:00:00",
          "2023-03-01T00:00:00",
          "2023-02-28T00:00:00",
          "2023-02-27T00:00:00",
          "2023-02-24T00:00:00",
          "2023-02-23T00:00:00",
          "2023-02-22T00:00:00",
          "2023-02-21T00:00:00",
          "2023-02-20T00:00:00",
          "2023-02-17T00:00:00",
          "2023-02-16T00:00:00",
          "2023-02-15T00:00:00",
          "2023-02-14T00:00:00",
          "2023-02-13T00:00:00",
          "2023-02-10T00:00:00",
          "2023-02-09T00:00:00",
          "2023-02-08T00:00:00",
          "2023-02-07T00:00:00",
          "2023-02-06T00:00:00",
          "2023-02-03T00:00:00",
          "2023-02-02T00:00:00",
          "2023-02-01T00:00:00",
          "2023-01-31T00:00:00",
          "2023-01-30T00:00:00",
          "2023-01-27T00:00:00",
          "2023-01-26T00:00:00",
          "2023-01-25T00:00:00",
          "2023-01-24T00:00:00",
          "2023-01-23T00:00:00",
          "2023-01-20T00:00:00",
          "2023-01-19T00:00:00",
          "2023-01-18T00:00:00",
          "2023-01-17T00:00:00",
          "2023-01-16T00:00:00",
          "2023-01-13T00:00:00",
          "2023-01-12T00:00:00",
          "2023-01-11T00:00:00",
          "2023-01-10T00:00:00",
          "2023-01-09T00:00:00",
          "2023-01-06T00:00:00",
          "2023-01-05T00:00:00",
          "2023-01-04T00:00:00",
          "2023-01-03T00:00:00",
          "2023-01-02T00:00:00"
         ],
         "y": [
          1.0751,
          1.0735,
          1.0785,
          1.0779,
          1.0822,
          1.0808,
          1.0813,
          1.0829,
          1.0881,
          1.0876,
          1.0892,
          1.093,
          1.095,
          1.0959,
          1.1037,
          1.1014,
          1.1074,
          1.1043,
          1.0965,
          1.0981,
          1.1042,
          1.1039,
          1.1022,
          1.1002,
          1.0978,
          1.0944,
          1.0933,
          1.0972,
          1.0981,
          1.1057,
          1.1015,
          1.0922,
          1.0905,
          1.0915,
          1.094,
          1.0901,
          1.087,
          1.0875,
          1.0886,
          1.0847,
          1.0841,
          1.0773,
          1.0745,
          1.0879,
          1.0785,
          1.0776,
          1.0717,
          1.0623,
          1.0595,
          1.0549,
          1.0737,
          1.0706,
          1.0586,
          1.0554,
          1.0545,
          1.0665,
          1.0646,
          1.0615,
          1.0605,
          1.0684,
          1.0619,
          1.0554,
          1.057,
          1.0616,
          1.0644,
          1.0664,
          1.0674,
          1.0625,
          1.07,
          1.07,
          1.0759,
          1.0686,
          1.069,
          1.0771,
          1.0735,
          1.07,
          1.0776,
          1.0937,
          1.0988,
          1.0894,
          1.0833,
          1.0903,
          1.0865,
          1.0895,
          1.0878,
          1.0858,
          1.0871,
          1.0826,
          1.0815,
          1.0839,
          1.0843,
          1.0812,
          1.0814,
          1.0772,
          1.0747,
          1.0723,
          1.0696,
          1.05,
          1.0601,
          1.0599,
          1.0545,
          1.0683
         ]
        },
        {
         "marker": {
          "color": "blue"
         },
         "mode": "markers",
         "name": "Outlier Negativo",
         "type": "scatter",
         "x": [
          "2023-01-06T00:00:00",
          "2023-01-03T00:00:00"
         ],
         "y": [
          1.05,
          1.0545
         ]
        },
        {
         "marker": {
          "color": "red"
         },
         "mode": "markers",
         "name": "Outlier Positivo",
         "type": "scatter",
         "x": [
          "2023-05-04T00:00:00",
          "2023-04-27T00:00:00",
          "2023-04-26T00:00:00",
          "2023-04-14T00:00:00",
          "2023-04-13T00:00:00",
          "2023-04-05T00:00:00",
          "2023-02-02T00:00:00",
          "2023-01-17T00:00:00",
          "2023-01-16T00:00:00",
          "2023-01-13T00:00:00",
          "2023-01-12T00:00:00",
          "2023-01-10T00:00:00",
          "2023-01-09T00:00:00"
         ],
         "y": [
          1.1074,
          1.1042,
          1.1039,
          1.1057,
          1.1015,
          1.094,
          1.0988,
          1.0843,
          1.0812,
          1.0814,
          1.0772,
          1.0723,
          1.0696
         ]
        },
        {
         "line": {
          "color": "green",
          "dash": "dash"
         },
         "mode": "lines",
         "name": "Média Móvel (30 dias)",
         "type": "scatter",
         "x": [
          "2023-05-26T00:00:00",
          "2023-05-25T00:00:00",
          "2023-05-24T00:00:00",
          "2023-05-23T00:00:00",
          "2023-05-22T00:00:00",
          "2023-05-19T00:00:00",
          "2023-05-18T00:00:00",
          "2023-05-17T00:00:00",
          "2023-05-16T00:00:00",
          "2023-05-15T00:00:00",
          "2023-05-12T00:00:00",
          "2023-05-11T00:00:00",
          "2023-05-10T00:00:00",
          "2023-05-09T00:00:00",
          "2023-05-08T00:00:00",
          "2023-05-05T00:00:00",
          "2023-05-04T00:00:00",
          "2023-05-03T00:00:00",
          "2023-05-02T00:00:00",
          "2023-04-28T00:00:00",
          "2023-04-27T00:00:00",
          "2023-04-26T00:00:00",
          "2023-04-25T00:00:00",
          "2023-04-24T00:00:00",
          "2023-04-21T00:00:00",
          "2023-04-20T00:00:00",
          "2023-04-19T00:00:00",
          "2023-04-18T00:00:00",
          "2023-04-17T00:00:00",
          "2023-04-14T00:00:00",
          "2023-04-13T00:00:00",
          "2023-04-12T00:00:00",
          "2023-04-11T00:00:00",
          "2023-04-06T00:00:00",
          "2023-04-05T00:00:00",
          "2023-04-04T00:00:00",
          "2023-04-03T00:00:00",
          "2023-03-31T00:00:00",
          "2023-03-30T00:00:00",
          "2023-03-29T00:00:00",
          "2023-03-28T00:00:00",
          "2023-03-27T00:00:00",
          "2023-03-24T00:00:00",
          "2023-03-23T00:00:00",
          "2023-03-22T00:00:00",
          "2023-03-21T00:00:00",
          "2023-03-20T00:00:00",
          "2023-03-17T00:00:00",
          "2023-03-16T00:00:00",
          "2023-03-15T00:00:00",
          "2023-03-14T00:00:00",
          "2023-03-13T00:00:00",
          "2023-03-10T00:00:00",
          "2023-03-09T00:00:00",
          "2023-03-08T00:00:00",
          "2023-03-07T00:00:00",
          "2023-03-06T00:00:00",
          "2023-03-03T00:00:00",
          "2023-03-02T00:00:00",
          "2023-03-01T00:00:00",
          "2023-02-28T00:00:00",
          "2023-02-27T00:00:00",
          "2023-02-24T00:00:00",
          "2023-02-23T00:00:00",
          "2023-02-22T00:00:00",
          "2023-02-21T00:00:00",
          "2023-02-20T00:00:00",
          "2023-02-17T00:00:00",
          "2023-02-16T00:00:00",
          "2023-02-15T00:00:00",
          "2023-02-14T00:00:00",
          "2023-02-13T00:00:00",
          "2023-02-10T00:00:00",
          "2023-02-09T00:00:00",
          "2023-02-08T00:00:00",
          "2023-02-07T00:00:00",
          "2023-02-06T00:00:00",
          "2023-02-03T00:00:00",
          "2023-02-02T00:00:00",
          "2023-02-01T00:00:00",
          "2023-01-31T00:00:00",
          "2023-01-30T00:00:00",
          "2023-01-27T00:00:00",
          "2023-01-26T00:00:00",
          "2023-01-25T00:00:00",
          "2023-01-24T00:00:00",
          "2023-01-23T00:00:00",
          "2023-01-20T00:00:00",
          "2023-01-19T00:00:00",
          "2023-01-18T00:00:00",
          "2023-01-17T00:00:00",
          "2023-01-16T00:00:00",
          "2023-01-13T00:00:00",
          "2023-01-12T00:00:00",
          "2023-01-11T00:00:00",
          "2023-01-10T00:00:00",
          "2023-01-09T00:00:00",
          "2023-01-06T00:00:00",
          "2023-01-05T00:00:00",
          "2023-01-04T00:00:00",
          "2023-01-03T00:00:00",
          "2023-01-02T00:00:00"
         ],
         "y": [
          null,
          null,
          null,
          null,
          null,
          null,
          null,
          null,
          null,
          null,
          null,
          null,
          null,
          null,
          null,
          null,
          null,
          null,
          null,
          null,
          null,
          null,
          null,
          null,
          null,
          null,
          null,
          null,
          null,
          1.09298,
          1.09386,
          1.0944833333333333,
          1.0948833333333332,
          1.0953366666666668,
          1.0957299999999999,
          1.09604,
          1.09623,
          1.0963833333333333,
          1.0964,
          1.0963033333333334,
          1.0961333333333334,
          1.0956100000000002,
          1.0949266666666666,
          1.09466,
          1.09382,
          1.0930266666666668,
          1.0918366666666666,
          1.0904366666666665,
          1.0892033333333335,
          1.0877633333333334,
          1.0867466666666667,
          1.0856366666666666,
          1.0841833333333333,
          1.08269,
          1.0812466666666667,
          1.0803166666666668,
          1.07936,
          1.07817,
          1.0769166666666665,
          1.0756733333333335,
          1.0743533333333335,
          1.0731266666666668,
          1.07201,
          1.0710133333333334,
          1.0700266666666667,
          1.0692366666666666,
          1.0685833333333332,
          1.06775,
          1.06713,
          1.06664,
          1.0663666666666667,
          1.0660766666666668,
          1.0658933333333334,
          1.0655333333333332,
          1.0653666666666668,
          1.0651133333333334,
          1.06531,
          1.0663566666666666,
          1.0676666666666668,
          1.0688166666666667,
          1.0691366666666666,
          1.0697933333333334,
          1.0707233333333332,
          1.07186,
          1.0729700000000002,
          1.0736133333333333,
          1.0743633333333333,
          1.0750666666666666,
          1.0757666666666668,
          1.0762833333333333,
          1.07703,
          1.07789,
          1.0787033333333333,
          1.0792233333333334,
          1.0795666666666668,
          1.0797633333333332,
          1.0798366666666666,
          1.0794199999999998,
          1.07909,
          1.0787533333333335,
          1.07804,
          1.0780299999999998
         ]
        }
       ],
       "layout": {
        "legend": {
         "orientation": "v",
         "x": 1,
         "xanchor": "left",
         "y": 1.02,
         "yanchor": "bottom"
        },
        "showlegend": true,
        "template": {
         "data": {
          "bar": [
           {
            "error_x": {
             "color": "#2a3f5f"
            },
            "error_y": {
             "color": "#2a3f5f"
            },
            "marker": {
             "line": {
              "color": "#E5ECF6",
              "width": 0.5
             },
             "pattern": {
              "fillmode": "overlay",
              "size": 10,
              "solidity": 0.2
             }
            },
            "type": "bar"
           }
          ],
          "barpolar": [
           {
            "marker": {
             "line": {
              "color": "#E5ECF6",
              "width": 0.5
             },
             "pattern": {
              "fillmode": "overlay",
              "size": 10,
              "solidity": 0.2
             }
            },
            "type": "barpolar"
           }
          ],
          "carpet": [
           {
            "aaxis": {
             "endlinecolor": "#2a3f5f",
             "gridcolor": "white",
             "linecolor": "white",
             "minorgridcolor": "white",
             "startlinecolor": "#2a3f5f"
            },
            "baxis": {
             "endlinecolor": "#2a3f5f",
             "gridcolor": "white",
             "linecolor": "white",
             "minorgridcolor": "white",
             "startlinecolor": "#2a3f5f"
            },
            "type": "carpet"
           }
          ],
          "choropleth": [
           {
            "colorbar": {
             "outlinewidth": 0,
             "ticks": ""
            },
            "type": "choropleth"
           }
          ],
          "contour": [
           {
            "colorbar": {
             "outlinewidth": 0,
             "ticks": ""
            },
            "colorscale": [
             [
              0,
              "#0d0887"
             ],
             [
              0.1111111111111111,
              "#46039f"
             ],
             [
              0.2222222222222222,
              "#7201a8"
             ],
             [
              0.3333333333333333,
              "#9c179e"
             ],
             [
              0.4444444444444444,
              "#bd3786"
             ],
             [
              0.5555555555555556,
              "#d8576b"
             ],
             [
              0.6666666666666666,
              "#ed7953"
             ],
             [
              0.7777777777777778,
              "#fb9f3a"
             ],
             [
              0.8888888888888888,
              "#fdca26"
             ],
             [
              1,
              "#f0f921"
             ]
            ],
            "type": "contour"
           }
          ],
          "contourcarpet": [
           {
            "colorbar": {
             "outlinewidth": 0,
             "ticks": ""
            },
            "type": "contourcarpet"
           }
          ],
          "heatmap": [
           {
            "colorbar": {
             "outlinewidth": 0,
             "ticks": ""
            },
            "colorscale": [
             [
              0,
              "#0d0887"
             ],
             [
              0.1111111111111111,
              "#46039f"
             ],
             [
              0.2222222222222222,
              "#7201a8"
             ],
             [
              0.3333333333333333,
              "#9c179e"
             ],
             [
              0.4444444444444444,
              "#bd3786"
             ],
             [
              0.5555555555555556,
              "#d8576b"
             ],
             [
              0.6666666666666666,
              "#ed7953"
             ],
             [
              0.7777777777777778,
              "#fb9f3a"
             ],
             [
              0.8888888888888888,
              "#fdca26"
             ],
             [
              1,
              "#f0f921"
             ]
            ],
            "type": "heatmap"
           }
          ],
          "heatmapgl": [
           {
            "colorbar": {
             "outlinewidth": 0,
             "ticks": ""
            },
            "colorscale": [
             [
              0,
              "#0d0887"
             ],
             [
              0.1111111111111111,
              "#46039f"
             ],
             [
              0.2222222222222222,
              "#7201a8"
             ],
             [
              0.3333333333333333,
              "#9c179e"
             ],
             [
              0.4444444444444444,
              "#bd3786"
             ],
             [
              0.5555555555555556,
              "#d8576b"
             ],
             [
              0.6666666666666666,
              "#ed7953"
             ],
             [
              0.7777777777777778,
              "#fb9f3a"
             ],
             [
              0.8888888888888888,
              "#fdca26"
             ],
             [
              1,
              "#f0f921"
             ]
            ],
            "type": "heatmapgl"
           }
          ],
          "histogram": [
           {
            "marker": {
             "pattern": {
              "fillmode": "overlay",
              "size": 10,
              "solidity": 0.2
             }
            },
            "type": "histogram"
           }
          ],
          "histogram2d": [
           {
            "colorbar": {
             "outlinewidth": 0,
             "ticks": ""
            },
            "colorscale": [
             [
              0,
              "#0d0887"
             ],
             [
              0.1111111111111111,
              "#46039f"
             ],
             [
              0.2222222222222222,
              "#7201a8"
             ],
             [
              0.3333333333333333,
              "#9c179e"
             ],
             [
              0.4444444444444444,
              "#bd3786"
             ],
             [
              0.5555555555555556,
              "#d8576b"
             ],
             [
              0.6666666666666666,
              "#ed7953"
             ],
             [
              0.7777777777777778,
              "#fb9f3a"
             ],
             [
              0.8888888888888888,
              "#fdca26"
             ],
             [
              1,
              "#f0f921"
             ]
            ],
            "type": "histogram2d"
           }
          ],
          "histogram2dcontour": [
           {
            "colorbar": {
             "outlinewidth": 0,
             "ticks": ""
            },
            "colorscale": [
             [
              0,
              "#0d0887"
             ],
             [
              0.1111111111111111,
              "#46039f"
             ],
             [
              0.2222222222222222,
              "#7201a8"
             ],
             [
              0.3333333333333333,
              "#9c179e"
             ],
             [
              0.4444444444444444,
              "#bd3786"
             ],
             [
              0.5555555555555556,
              "#d8576b"
             ],
             [
              0.6666666666666666,
              "#ed7953"
             ],
             [
              0.7777777777777778,
              "#fb9f3a"
             ],
             [
              0.8888888888888888,
              "#fdca26"
             ],
             [
              1,
              "#f0f921"
             ]
            ],
            "type": "histogram2dcontour"
           }
          ],
          "mesh3d": [
           {
            "colorbar": {
             "outlinewidth": 0,
             "ticks": ""
            },
            "type": "mesh3d"
           }
          ],
          "parcoords": [
           {
            "line": {
             "colorbar": {
              "outlinewidth": 0,
              "ticks": ""
             }
            },
            "type": "parcoords"
           }
          ],
          "pie": [
           {
            "automargin": true,
            "type": "pie"
           }
          ],
          "scatter": [
           {
            "fillpattern": {
             "fillmode": "overlay",
             "size": 10,
             "solidity": 0.2
            },
            "type": "scatter"
           }
          ],
          "scatter3d": [
           {
            "line": {
             "colorbar": {
              "outlinewidth": 0,
              "ticks": ""
             }
            },
            "marker": {
             "colorbar": {
              "outlinewidth": 0,
              "ticks": ""
             }
            },
            "type": "scatter3d"
           }
          ],
          "scattercarpet": [
           {
            "marker": {
             "colorbar": {
              "outlinewidth": 0,
              "ticks": ""
             }
            },
            "type": "scattercarpet"
           }
          ],
          "scattergeo": [
           {
            "marker": {
             "colorbar": {
              "outlinewidth": 0,
              "ticks": ""
             }
            },
            "type": "scattergeo"
           }
          ],
          "scattergl": [
           {
            "marker": {
             "colorbar": {
              "outlinewidth": 0,
              "ticks": ""
             }
            },
            "type": "scattergl"
           }
          ],
          "scattermapbox": [
           {
            "marker": {
             "colorbar": {
              "outlinewidth": 0,
              "ticks": ""
             }
            },
            "type": "scattermapbox"
           }
          ],
          "scatterpolar": [
           {
            "marker": {
             "colorbar": {
              "outlinewidth": 0,
              "ticks": ""
             }
            },
            "type": "scatterpolar"
           }
          ],
          "scatterpolargl": [
           {
            "marker": {
             "colorbar": {
              "outlinewidth": 0,
              "ticks": ""
             }
            },
            "type": "scatterpolargl"
           }
          ],
          "scatterternary": [
           {
            "marker": {
             "colorbar": {
              "outlinewidth": 0,
              "ticks": ""
             }
            },
            "type": "scatterternary"
           }
          ],
          "surface": [
           {
            "colorbar": {
             "outlinewidth": 0,
             "ticks": ""
            },
            "colorscale": [
             [
              0,
              "#0d0887"
             ],
             [
              0.1111111111111111,
              "#46039f"
             ],
             [
              0.2222222222222222,
              "#7201a8"
             ],
             [
              0.3333333333333333,
              "#9c179e"
             ],
             [
              0.4444444444444444,
              "#bd3786"
             ],
             [
              0.5555555555555556,
              "#d8576b"
             ],
             [
              0.6666666666666666,
              "#ed7953"
             ],
             [
              0.7777777777777778,
              "#fb9f3a"
             ],
             [
              0.8888888888888888,
              "#fdca26"
             ],
             [
              1,
              "#f0f921"
             ]
            ],
            "type": "surface"
           }
          ],
          "table": [
           {
            "cells": {
             "fill": {
              "color": "#EBF0F8"
             },
             "line": {
              "color": "white"
             }
            },
            "header": {
             "fill": {
              "color": "#C8D4E3"
             },
             "line": {
              "color": "white"
             }
            },
            "type": "table"
           }
          ]
         },
         "layout": {
          "annotationdefaults": {
           "arrowcolor": "#2a3f5f",
           "arrowhead": 0,
           "arrowwidth": 1
          },
          "autotypenumbers": "strict",
          "coloraxis": {
           "colorbar": {
            "outlinewidth": 0,
            "ticks": ""
           }
          },
          "colorscale": {
           "diverging": [
            [
             0,
             "#8e0152"
            ],
            [
             0.1,
             "#c51b7d"
            ],
            [
             0.2,
             "#de77ae"
            ],
            [
             0.3,
             "#f1b6da"
            ],
            [
             0.4,
             "#fde0ef"
            ],
            [
             0.5,
             "#f7f7f7"
            ],
            [
             0.6,
             "#e6f5d0"
            ],
            [
             0.7,
             "#b8e186"
            ],
            [
             0.8,
             "#7fbc41"
            ],
            [
             0.9,
             "#4d9221"
            ],
            [
             1,
             "#276419"
            ]
           ],
           "sequential": [
            [
             0,
             "#0d0887"
            ],
            [
             0.1111111111111111,
             "#46039f"
            ],
            [
             0.2222222222222222,
             "#7201a8"
            ],
            [
             0.3333333333333333,
             "#9c179e"
            ],
            [
             0.4444444444444444,
             "#bd3786"
            ],
            [
             0.5555555555555556,
             "#d8576b"
            ],
            [
             0.6666666666666666,
             "#ed7953"
            ],
            [
             0.7777777777777778,
             "#fb9f3a"
            ],
            [
             0.8888888888888888,
             "#fdca26"
            ],
            [
             1,
             "#f0f921"
            ]
           ],
           "sequentialminus": [
            [
             0,
             "#0d0887"
            ],
            [
             0.1111111111111111,
             "#46039f"
            ],
            [
             0.2222222222222222,
             "#7201a8"
            ],
            [
             0.3333333333333333,
             "#9c179e"
            ],
            [
             0.4444444444444444,
             "#bd3786"
            ],
            [
             0.5555555555555556,
             "#d8576b"
            ],
            [
             0.6666666666666666,
             "#ed7953"
            ],
            [
             0.7777777777777778,
             "#fb9f3a"
            ],
            [
             0.8888888888888888,
             "#fdca26"
            ],
            [
             1,
             "#f0f921"
            ]
           ]
          },
          "colorway": [
           "#636efa",
           "#EF553B",
           "#00cc96",
           "#ab63fa",
           "#FFA15A",
           "#19d3f3",
           "#FF6692",
           "#B6E880",
           "#FF97FF",
           "#FECB52"
          ],
          "font": {
           "color": "#2a3f5f"
          },
          "geo": {
           "bgcolor": "white",
           "lakecolor": "white",
           "landcolor": "#E5ECF6",
           "showlakes": true,
           "showland": true,
           "subunitcolor": "white"
          },
          "hoverlabel": {
           "align": "left"
          },
          "hovermode": "closest",
          "mapbox": {
           "style": "light"
          },
          "paper_bgcolor": "white",
          "plot_bgcolor": "#E5ECF6",
          "polar": {
           "angularaxis": {
            "gridcolor": "white",
            "linecolor": "white",
            "ticks": ""
           },
           "bgcolor": "#E5ECF6",
           "radialaxis": {
            "gridcolor": "white",
            "linecolor": "white",
            "ticks": ""
           }
          },
          "scene": {
           "xaxis": {
            "backgroundcolor": "#E5ECF6",
            "gridcolor": "white",
            "gridwidth": 2,
            "linecolor": "white",
            "showbackground": true,
            "ticks": "",
            "zerolinecolor": "white"
           },
           "yaxis": {
            "backgroundcolor": "#E5ECF6",
            "gridcolor": "white",
            "gridwidth": 2,
            "linecolor": "white",
            "showbackground": true,
            "ticks": "",
            "zerolinecolor": "white"
           },
           "zaxis": {
            "backgroundcolor": "#E5ECF6",
            "gridcolor": "white",
            "gridwidth": 2,
            "linecolor": "white",
            "showbackground": true,
            "ticks": "",
            "zerolinecolor": "white"
           }
          },
          "shapedefaults": {
           "line": {
            "color": "#2a3f5f"
           }
          },
          "ternary": {
           "aaxis": {
            "gridcolor": "white",
            "linecolor": "white",
            "ticks": ""
           },
           "baxis": {
            "gridcolor": "white",
            "linecolor": "white",
            "ticks": ""
           },
           "bgcolor": "#E5ECF6",
           "caxis": {
            "gridcolor": "white",
            "linecolor": "white",
            "ticks": ""
           }
          },
          "title": {
           "x": 0.05
          },
          "xaxis": {
           "automargin": true,
           "gridcolor": "white",
           "linecolor": "white",
           "ticks": "",
           "title": {
            "standoff": 15
           },
           "zerolinecolor": "white",
           "zerolinewidth": 2
          },
          "yaxis": {
           "automargin": true,
           "gridcolor": "white",
           "linecolor": "white",
           "ticks": "",
           "title": {
            "standoff": 15
           },
           "zerolinecolor": "white",
           "zerolinewidth": 2
          }
         }
        },
        "title": {
         "text": "Detecção de Anomalias & Média Móvel com range de 30 dias"
        },
        "xaxis": {
         "title": {
          "text": "Data"
         }
        },
        "yaxis": {
         "title": {
          "text": "Valor Us Dollar"
         }
        }
       }
      }
     },
     "metadata": {},
     "output_type": "display_data"
    }
   ],
   "source": [
    "# Plot do histórico com a identificação das anomalias móveis (30 dias)\n",
    "_graph_anomaly_plotly(\n",
    "    base = df_2023,\n",
    "    country_currency = 'US dollar',\n",
    "    rolling_window = 30\n",
    ")"
   ]
  },
  {
   "cell_type": "code",
   "execution_count": 16,
   "metadata": {},
   "outputs": [
    {
     "data": {
      "image/png": "[encoded data removed]",
      "text/plain": [
       "<Figure size 1200x600 with 1 Axes>"
      ]
     },
     "metadata": {},
     "output_type": "display_data"
    }
   ],
   "source": [
    "_graph_anomaly_seaborn(\n",
    "    base = df_2023,\n",
    "    country_currency = 'US dollar',\n",
    "    rolling_window = 30\n",
    ")"
   ]
  },
  {
   "cell_type": "code",
   "execution_count": null,
   "metadata": {},
   "outputs": [],
   "source": []
  }
 ],
 "metadata": {
  "colab": {
   "authorship_tag": "ABX9TyPcMvwNSsQH6CV2BzpFISd7",
   "provenance": []
  },
  "kernelspec": {
   "display_name": "Python 3 (ipykernel)",
   "language": "python",
   "name": "python3"
  },
  "language_info": {
   "codemirror_mode": {
    "name": "ipython",
    "version": 3
   },
   "file_extension": ".py",
   "mimetype": "text/x-python",
   "name": "python",
   "nbconvert_exporter": "python",
   "pygments_lexer": "ipython3",
   "version": "3.1.0"
  }
 },
 "nbformat": 4,
 "nbformat_minor": 1
}
